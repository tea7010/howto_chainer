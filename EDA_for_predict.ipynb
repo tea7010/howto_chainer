{
 "cells": [
  {
   "cell_type": "code",
   "execution_count": 1,
   "metadata": {
    "collapsed": true
   },
   "outputs": [],
   "source": [
    "from my_libs.load_data import load_data, load_new_dataset\n",
    "from my_libs.reset_seed import reset_seed\n",
    "from my_libs.ChainerPipeline import ChainerPipeline\n",
    "\n",
    "def run_evaluation(preprocess_inst, network_inst, setting):\n",
    "    reset_seed(0)\n",
    "    train, test = load_new_dataset('../new_dataset/dataset/data/')\n",
    "       \n",
    "    p = ChainerPipeline(preprocess_inst, network_inst, train, test, setting)\n",
    "    model, result = p.run()\n",
    "    return model"
   ]
  },
  {
   "cell_type": "code",
   "execution_count": 3,
   "metadata": {},
   "outputs": [
    {
     "name": "stdout",
     "output_type": "stream",
     "text": [
      "epoch       main/accuracy  validation/main/accuracy  main/loss   validation/main/loss  elapsed_time\n",
      "\u001b[J1           0.520833       0.5375                    3.27423     0.750486              18.6722       \n",
      "\u001b[J2           0.594254       0.605                     0.709328    0.6656                35.2985       \n",
      "\u001b[J3           0.66369        0.65                      0.601323    0.622215              52.0116       \n",
      "\u001b[J4           0.74496        0.63875                   0.511961    0.67737               68.4542       \n",
      "\u001b[J5           0.774802       0.6725                    0.468917    0.626792              85.0078       \n",
      "\u001b[J6           0.810484       0.68375                   0.416122    0.653998              101.647       \n",
      "\u001b[J7           0.821925       0.69625                   0.380764    0.614825              118.099       \n",
      "\u001b[J8           0.828125       0.6875                    0.375231    0.658857              134.333       \n",
      "\u001b[J9           0.883433       0.6925                    0.293309    0.65338               150.874       \n",
      "\u001b[J10          0.890625       0.6925                    0.262663    0.678835              167.16        \n",
      "Preprocess             Processing_6\n",
      "Model                         CNN_1\n",
      "Elapsed time                 167.16\n",
      "Validation accuracy          0.6925\n",
      "batch_size                       32\n",
      "epoch                            10\n",
      "fixed_base_w                  False\n",
      "use_gpu                        True\n",
      "dtype: object\n"
     ]
    }
   ],
   "source": [
    "import my_libs.network as my_net\n",
    "import my_libs.preprocess as my_process\n",
    "\n",
    "setting = {\n",
    "    'epoch': 10,\n",
    "    'batch_size': 32,\n",
    "    'use_gpu': True,\n",
    "    'fixed_base_w': False\n",
    "}\n",
    "\n",
    "model = run_evaluation(my_process.Processing_6(), my_net.CNN_1(), setting)"
   ]
  },
  {
   "cell_type": "code",
   "execution_count": 94,
   "metadata": {},
   "outputs": [],
   "source": [
    "import numpy as np\n",
    "import pandas as pd\n",
    "import os\n",
    "from glob import glob\n",
    "from chainer.datasets import TupleDataset\n",
    "from chainercv.transforms import resize"
   ]
  },
  {
   "cell_type": "code",
   "execution_count": 95,
   "metadata": {},
   "outputs": [
    {
     "data": {
      "text/plain": [
       "['dog', 'cat']"
      ]
     },
     "execution_count": 95,
     "metadata": {},
     "output_type": "execute_result"
    }
   ],
   "source": [
    "data_dir = '../new_dataset/dataset/data/test/'\n",
    "os.listdir(data_dir)"
   ]
  },
  {
   "cell_type": "code",
   "execution_count": 96,
   "metadata": {},
   "outputs": [
    {
     "data": {
      "text/plain": [
       "(500, 500)"
      ]
     },
     "execution_count": 96,
     "metadata": {},
     "output_type": "execute_result"
    }
   ],
   "source": [
    "test_cats = glob(os.path.join(data_dir, 'cat/*.jpg'))\n",
    "test_dogs = glob(os.path.join(data_dir, 'dog/*.jpg'))\n",
    "len(test_cats), len(test_dogs)"
   ]
  },
  {
   "cell_type": "code",
   "execution_count": 97,
   "metadata": {},
   "outputs": [],
   "source": [
    "train_label = {\n",
    "    'cat': 1,\n",
    "    'dog': 0}\n",
    "\n",
    "df = pd.DataFrame({\n",
    "    'file_path': test_cats + test_dogs\n",
    "})\n",
    "df['label'] = df['file_path'].str.split('/', expand=True)[5]\n",
    "df['dataset'] = df['file_path'].str.split('/', expand=True)[4]\n",
    "df['target'] = df['label'].replace(train_label)\n",
    "\n",
    "test = TupleDataset(df['file_path'], df['target'].astype('int32'))\n",
    "dataset = LabeledImageDataset(test)\n",
    "\n",
    "def normarize(in_data):\n",
    "    img, label = in_data\n",
    "    img = img/255\n",
    "    img = resize(img, (100, 100))\n",
    "    return img, label\n",
    "\n",
    "test = TransformDataset(dataset, normarize)"
   ]
  },
  {
   "cell_type": "code",
   "execution_count": 98,
   "metadata": {},
   "outputs": [
    {
     "data": {
      "text/plain": [
       "variable([[-0.8171625,  1.0286219]])"
      ]
     },
     "execution_count": 98,
     "metadata": {},
     "output_type": "execute_result"
    }
   ],
   "source": [
    "img = test[0][0]\n",
    "predict = model.predictor(np.array([img]))\n",
    "predict"
   ]
  },
  {
   "cell_type": "code",
   "execution_count": null,
   "metadata": {
    "collapsed": true
   },
   "outputs": [],
   "source": []
  }
 ],
 "metadata": {
  "kernelspec": {
   "display_name": "Python 3",
   "language": "python",
   "name": "python3"
  },
  "language_info": {
   "codemirror_mode": {
    "name": "ipython",
    "version": 3
   },
   "file_extension": ".py",
   "mimetype": "text/x-python",
   "name": "python",
   "nbconvert_exporter": "python",
   "pygments_lexer": "ipython3",
   "version": "3.5.2"
  }
 },
 "nbformat": 4,
 "nbformat_minor": 2
}
