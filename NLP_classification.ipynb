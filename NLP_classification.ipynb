{
 "cells": [
  {
   "cell_type": "code",
   "execution_count": 75,
   "metadata": {},
   "outputs": [],
   "source": [
    "import os\n",
    "from glob import glob\n",
    "import pandas as pd\n",
    "import numpy as np\n",
    "import json\n",
    "\n",
    "%matplotlib inline"
   ]
  },
  {
   "cell_type": "code",
   "execution_count": 2,
   "metadata": {},
   "outputs": [
    {
     "data": {
      "text/plain": [
       "['../text/movie-enter',\n",
       " '../text/kaden-channel',\n",
       " '../text/sports-watch',\n",
       " '../text/it-life-hack',\n",
       " '../text/dokujo-tsushin',\n",
       " '../text/peachy',\n",
       " '../text/smax',\n",
       " '../text/topic-news',\n",
       " '../text/livedoor-homme']"
      ]
     },
     "execution_count": 2,
     "metadata": {},
     "output_type": "execute_result"
    }
   ],
   "source": [
    "directories = glob('../text/*')\n",
    "directories"
   ]
  },
  {
   "cell_type": "code",
   "execution_count": 7,
   "metadata": {},
   "outputs": [
    {
     "data": {
      "text/plain": [
       "{'../text/dokujo-tsushin': 4,\n",
       " '../text/it-life-hack': 3,\n",
       " '../text/kaden-channel': 1,\n",
       " '../text/livedoor-homme': 8,\n",
       " '../text/movie-enter': 0,\n",
       " '../text/peachy': 5,\n",
       " '../text/smax': 6,\n",
       " '../text/sports-watch': 2,\n",
       " '../text/topic-news': 7}"
      ]
     },
     "execution_count": 7,
     "metadata": {},
     "output_type": "execute_result"
    }
   ],
   "source": [
    "dir_labels = dict(zip(directories, range(len(directories))))\n",
    "dir_labels"
   ]
  },
  {
   "cell_type": "code",
   "execution_count": 29,
   "metadata": {},
   "outputs": [],
   "source": [
    "texts, labels = [], []\n",
    "for dir_i, label_i in dir_label_list.items():\n",
    "    file_list = glob('%s/*.txt' % dir_i)\n",
    "    \n",
    "    for file_i in file_list:\n",
    "        with open(file_i, encoding='utf-8') as f:\n",
    "            text = ''.join(f.readlines()[2:])\n",
    "            texts.append(text)\n",
    "            labels.append(label_i)"
   ]
  },
  {
   "cell_type": "code",
   "execution_count": 31,
   "metadata": {},
   "outputs": [
    {
     "data": {
      "text/plain": [
       "(7376, 7376)"
      ]
     },
     "execution_count": 31,
     "metadata": {},
     "output_type": "execute_result"
    }
   ],
   "source": [
    "len(texts), len(labels)"
   ]
  },
  {
   "cell_type": "code",
   "execution_count": 32,
   "metadata": {},
   "outputs": [
    {
     "data": {
      "text/plain": [
       "'都内開運スポットをそぞろ歩き\\n\\u3000近年、パワースポット人気は増すばかり。明治神宮の「清正井」などは、朝から行列ができるほどで、芸能人も多く訪れているそうです。今では日本各地のパワースポットがネットや雑誌で紹介されており、北海道から沖縄まで、さまざまな霊気の宿る場所へ出かけるのが、女子たちの旅の目的のひとつとなっているのではないでしょうか？\\n\\u3000\\n\\u3000そんな全国へ訪れるパワースポット巡りも素敵ですが、自分が住む周辺の街でも簡単に、開運できるスポットがあるのをご存じでしょうか？それが七福神巡り。七福神巡りとは、恵比寿天、寿老人、大黒天、福禄寿、毘沙門天、弁財天、布袋尊のそれぞれの福の神が祀られた寺社を参拝し、7つの災いと7つの福を呼びこむ、室町時代から続く祈願巡りなのです。\\n\\n\\u3000本来の七福神巡りは、お正月に行うのが一般的ですが、お寺に方に聞くと、最近では街の散策を楽しみながら七福神を参拝し、祈願をする女性もたくさんいらっしゃるそうです。そこで私、編集部Mも七福神巡りを初体験してみました。\\n\\n\\u3000都内には七福神巡りを行える街が数多くあり、下町だけでも「谷中」「浅草」「北千住」など、どの街を巡ろうか迷うほどにあります。その中で今回私が選んだのは、寅さんで有名な「柴又七福神巡り」。この街は、私が住む街からたった1駅で気軽に訪れることができる場所です。\\n\\n\\u3000「柴又七福神巡り」は、寅さん像のある京成柴又駅からスタート。駅で無料配布の柴又マップを貰い、地図に沿ってそぞろ歩きを始めます。マップには「七福神巡り」のコース例も載っているので、とても便利です。また、七福神巡りを記念に残すには、最初のお寺で色紙(200円)をもらい、各寺で御朱印（200円）を貰っていくこともできます。\\n\\nお寺へ向かう道では、団子屋に鰻屋、そして屋台が並び活気あふれる帝釈天・題経時（毘沙門天）までの参道に、京成電車のすぐ脇道を通る宝袋尊・良観寺、そして閑静な住宅街の中にひっそりと佇む大黒天・宝生院など、下町あふれる風情が存分に味わえ、充実した散策も楽しめます。\\n\\n\\u3000また、それぞれのお寺の清らかさは、訪れる度に心が洗われていくのを実感。中でも真勝院（弁財天）の静寂さは、境内に入った瞬間に「この場所はなぜか心地よい」と感じられる空間でした。自分が心地よいと思える神域をご近所で見つけるにも、七福神巡りはとてもいいのかも知れません。\\n\\n\\u3000柴又七福神巡りは約2時間半で終了。祈願した“福”と散策で出会った下町の風情など、「体を使い、心を豊かにする」そんな充実感をたっぷりと味わえた七福神巡りでした。\\n\\n\\u3000\\u3000ご近所でそぞろ歩きを楽しみながら開運ができる七福神巡り。ちょっとした気分転換や、運をアップしたい女子にはおすすめです。\\n\\n \\n賑わいをみせる帝釈天・題経寺までの参道\\n\\n\\n良観寺にある宝袋尊像。お腹に手を置き、願いながら時計周りに3回まわすと願いが叶うそう\\n\\n\\n恵比寿天を祀る医王寺。重厚な門に圧倒される\\n\\n・葛飾柴又 -公式サイト\\n'"
      ]
     },
     "execution_count": 32,
     "metadata": {},
     "output_type": "execute_result"
    }
   ],
   "source": [
    "texts[9]"
   ]
  },
  {
   "cell_type": "markdown",
   "metadata": {},
   "source": [
    "名詞の抽出"
   ]
  },
  {
   "cell_type": "code",
   "execution_count": 36,
   "metadata": {
    "collapsed": true
   },
   "outputs": [],
   "source": [
    "import MeCab\n",
    "from gensim import corpora, matutils\n",
    "\n",
    "mecab = MeCab.Tagger('-Ochasen')"
   ]
  },
  {
   "cell_type": "code",
   "execution_count": 34,
   "metadata": {
    "collapsed": true
   },
   "outputs": [],
   "source": [
    "def get_nouns(text):\n",
    "    nouns = []\n",
    "    res = mecab.parse(text)\n",
    "    words = res.split('\\n')[:-2] #EOSと空白部分の削除\n",
    "    for word in words:\n",
    "        part = word.split('\\t')\n",
    "        if '名詞' in part[3]:\n",
    "            nouns.append(part[0])\n",
    "    return nouns"
   ]
  },
  {
   "cell_type": "code",
   "execution_count": 35,
   "metadata": {
    "collapsed": true
   },
   "outputs": [],
   "source": [
    "word_collect = []\n",
    "for text in texts:\n",
    "    nouns = get_nouns(text)\n",
    "    word_collect.append(nouns)"
   ]
  },
  {
   "cell_type": "code",
   "execution_count": 41,
   "metadata": {},
   "outputs": [
    {
     "data": {
      "text/plain": [
       "7494"
      ]
     },
     "execution_count": 41,
     "metadata": {},
     "output_type": "execute_result"
    }
   ],
   "source": [
    "# dictionaryに格納して、top20に絞る\n",
    "dictionary = corpora.Dictionary(word_collect)\n",
    "dictionary.filter_extremes(no_below=20)\n",
    "len(dictionary)"
   ]
  },
  {
   "cell_type": "code",
   "execution_count": 42,
   "metadata": {},
   "outputs": [],
   "source": [
    "# BOWする\n",
    "n_words = len(dictionary)\n",
    "x = []\n",
    "for nouns in word_collect:\n",
    "    bow_id = dictionary.doc2bow(nouns)\n",
    "    bow = matutils.corpus2dense([bow_id], n_words).T[0]\n",
    "    x.append(bow)"
   ]
  },
  {
   "cell_type": "code",
   "execution_count": 45,
   "metadata": {},
   "outputs": [],
   "source": [
    "x = np.array(x, 'float32')\n",
    "t = np.array(labels, 'int32')"
   ]
  },
  {
   "cell_type": "code",
   "execution_count": 46,
   "metadata": {},
   "outputs": [
    {
     "data": {
      "text/plain": [
       "((7376, 7494), (7376,))"
      ]
     },
     "execution_count": 46,
     "metadata": {},
     "output_type": "execute_result"
    }
   ],
   "source": [
    "x.shape, t.shape"
   ]
  },
  {
   "cell_type": "code",
   "execution_count": 47,
   "metadata": {},
   "outputs": [
    {
     "data": {
      "text/plain": [
       "(dtype('float32'), dtype('int32'))"
      ]
     },
     "execution_count": 47,
     "metadata": {},
     "output_type": "execute_result"
    }
   ],
   "source": [
    "x.dtype, t.dtype"
   ]
  },
  {
   "cell_type": "markdown",
   "metadata": {},
   "source": [
    "### モデル作成"
   ]
  },
  {
   "cell_type": "code",
   "execution_count": 68,
   "metadata": {
    "collapsed": true
   },
   "outputs": [],
   "source": [
    "from chainer.datasets import TupleDataset, split_dataset_random\n",
    "import chainer\n",
    "import chainer.links as L\n",
    "import chainer.functions as F\n",
    "from chainer.optimizers import Adam\n",
    "from chainer.iterators import SerialIterator\n",
    "from chainer.training import StandardUpdater, Trainer\n",
    "from chainer.training.extensions import Evaluator, LogReport, PrintReport"
   ]
  },
  {
   "cell_type": "code",
   "execution_count": 65,
   "metadata": {
    "collapsed": true
   },
   "outputs": [],
   "source": [
    "# dataset \n",
    "dataset = TupleDataset(x, t)\n",
    "\n",
    "train, test = split_dataset_random(dataset, \n",
    "                                   int(len(dataset)*0.7))"
   ]
  },
  {
   "cell_type": "code",
   "execution_count": 66,
   "metadata": {
    "collapsed": true
   },
   "outputs": [],
   "source": [
    "def model_evaluation(nn, epoch=10, batch_size=16, use_gpu=True):\n",
    "    np.random.seed(0)\n",
    "    epoch=setting['epoch']\n",
    "    batch_size=setting['batch_size']\n",
    "    use_gpu=setting['use_gpu']\n",
    "\n",
    "    # Model Instance\n",
    "    model = L.Classifier(nn)\n",
    "    \n",
    "    if use_gpu:\n",
    "        device = 0\n",
    "        model.to_gpu(device)\n",
    "    else:\n",
    "        device = -1\n",
    "    \n",
    "    # ミニバッチのインスタンスを作成\n",
    "    train_iter = SerialIterator(train, batch_size)\n",
    "    test_iter = SerialIterator(test, batch_size, repeat=False, shuffle=False)\n",
    "    \n",
    "    # Set Lerning\n",
    "    optimizer = Adam()\n",
    "    optimizer.setup(model)\n",
    "    \n",
    "    updater = StandardUpdater(train_iter, optimizer, device=device)\n",
    "\n",
    "    trainer = Trainer(updater, (epoch, 'epoch'), out='result/text')\n",
    "    trainer.extend(Evaluator(test_iter, model, device=device))\n",
    "    trainer.extend(LogReport(trigger=(1, 'epoch')))\n",
    "    trainer.extend(PrintReport(['epoch', 'main/accuracy', 'validation/main/accuracy', \n",
    "                                'main/loss', 'validation/main/loss', 'elapsed_time']), \n",
    "                   trigger=(1, 'epoch'))\n",
    "    \n",
    "    trainer.run()\n",
    "    \n",
    "    if use_gpu:\n",
    "        model.to_cpu()\n",
    "\n",
    "    return model\n",
    "        \n",
    "def visualize_result():\n",
    "    with open('./result/text/log') as f:\n",
    "        result = pd.DataFrame(json.load(f))\n",
    "        \n",
    "    print('Elapsed time: %d sec' % result.iloc[-1]['elapsed_time'])\n",
    "    print('Validation accuracy:', result.iloc[-1]['validation/main/accuracy'])\n",
    "    result[['main/accuracy', 'validation/main/accuracy']].plot()\n",
    "    return result"
   ]
  },
  {
   "cell_type": "code",
   "execution_count": 78,
   "metadata": {
    "scrolled": true
   },
   "outputs": [
    {
     "name": "stdout",
     "output_type": "stream",
     "text": [
      "epoch       main/accuracy  validation/main/accuracy  main/loss   validation/main/loss  elapsed_time\n",
      "\u001b[J1           0.839423       0.929833                  0.651187    0.264467              2.66022       \n",
      "\u001b[J2           0.981538       0.945786                  0.0868497   0.213773              5.18105       \n",
      "\u001b[J3           0.998039       0.945786                  0.0282723   0.203314              7.60238       \n",
      "\u001b[J4           0.998654       0.942441                  0.0166231   0.21963               10.0699       \n",
      "\u001b[J5           0.998654       0.946656                  0.0121457   0.209953              12.5584       \n",
      "\u001b[J6           0.999608       0.945351                  0.008824    0.216972              15.1116       \n",
      "\u001b[J7           0.999808       0.949264                  0.00664317  0.215485              17.6221       \n",
      "\u001b[J8           0.999615       0.949264                  0.00575864  0.219126              20.0921       \n",
      "\u001b[J9           1              0.949264                  0.00467988  0.223068              22.5179       \n",
      "\u001b[J10          0.999808       0.947525                  0.00451938  0.228042              25.0628       \n",
      "Elapsed time: 25 sec\n",
      "Validation accuracy: 0.9475250866102136\n"
     ]
    },
    {
     "data": {
      "image/png": "[encoded data removed]",
      "text/plain": [
       "<matplotlib.figure.Figure at 0x7f423f284ac8>"
      ]
     },
     "metadata": {},
     "output_type": "display_data"
    }
   ],
   "source": [
    "class NN(chainer.Chain):\n",
    "    def __init__(self):\n",
    "        super().__init__()\n",
    "        with self.init_scope():\n",
    "            self.fc1 = L.Linear(None, 500)\n",
    "            self.fc_out = L.Linear(None, 9)\n",
    "            \n",
    "    def __call__(self, x):\n",
    "        h = self.fc1(x)\n",
    "        h = F.relu(h)\n",
    "        h = F.dropout(h)\n",
    "        h = self.fc_out(h)\n",
    "        return h\n",
    "\n",
    "setting = {\n",
    "    'epoch': 10,\n",
    "    'batch_size': 100,\n",
    "    'use_gpu': False\n",
    "}\n",
    "model_evaluation(NN(), setting)\n",
    "result = visualize_result()"
   ]
  },
  {
   "cell_type": "code",
   "execution_count": 79,
   "metadata": {
    "collapsed": true
   },
   "outputs": [],
   "source": [
    "F.dropout?"
   ]
  },
  {
   "cell_type": "code",
   "execution_count": null,
   "metadata": {
    "collapsed": true
   },
   "outputs": [],
   "source": []
  }
 ],
 "metadata": {
  "kernelspec": {
   "display_name": "Python 3",
   "language": "python",
   "name": "python3"
  },
  "language_info": {
   "codemirror_mode": {
    "name": "ipython",
    "version": 3
   },
   "file_extension": ".py",
   "mimetype": "text/x-python",
   "name": "python",
   "nbconvert_exporter": "python",
   "pygments_lexer": "ipython3",
   "version": "3.5.2"
  }
 },
 "nbformat": 4,
 "nbformat_minor": 2
}
