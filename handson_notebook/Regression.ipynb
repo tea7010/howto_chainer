{
 "cells": [
  {
   "cell_type": "code",
   "execution_count": 1,
   "metadata": {
    "collapsed": true
   },
   "outputs": [],
   "source": [
    "%matplotlib inline\n",
    "import numpy as np\n",
    "import pandas as pd\n",
    "import matplotlib.pyplot as plt\n",
    "import json"
   ]
  },
  {
   "cell_type": "code",
   "execution_count": 2,
   "metadata": {},
   "outputs": [
    {
     "data": {
      "text/plain": [
       "(506, 14)"
      ]
     },
     "execution_count": 2,
     "metadata": {},
     "output_type": "execute_result"
    }
   ],
   "source": [
    "df = pd.read_csv('../data/housing.csv')\n",
    "df.shape"
   ]
  },
  {
   "cell_type": "code",
   "execution_count": 3,
   "metadata": {},
   "outputs": [
    {
     "data": {
      "text/plain": [
       "x1     float64\n",
       "x2     float64\n",
       "x3     float64\n",
       "x4       int64\n",
       "x5     float64\n",
       "x6     float64\n",
       "x7     float64\n",
       "x8     float64\n",
       "x9       int64\n",
       "x10      int64\n",
       "x11    float64\n",
       "x12    float64\n",
       "x13    float64\n",
       "y      float64\n",
       "dtype: object"
      ]
     },
     "execution_count": 3,
     "metadata": {},
     "output_type": "execute_result"
    }
   ],
   "source": [
    "df.dtypes"
   ]
  },
  {
   "cell_type": "code",
   "execution_count": 4,
   "metadata": {},
   "outputs": [
    {
     "data": {
      "text/plain": [
       "x1     False\n",
       "x2     False\n",
       "x3     False\n",
       "x4     False\n",
       "x5     False\n",
       "x6     False\n",
       "x7     False\n",
       "x8     False\n",
       "x9     False\n",
       "x10    False\n",
       "x11    False\n",
       "x12    False\n",
       "x13    False\n",
       "y      False\n",
       "dtype: bool"
      ]
     },
     "execution_count": 4,
     "metadata": {},
     "output_type": "execute_result"
    }
   ],
   "source": [
    "df.isnull().any()"
   ]
  },
  {
   "cell_type": "code",
   "execution_count": 5,
   "metadata": {
    "scrolled": true
   },
   "outputs": [
    {
     "data": {
      "text/html": [
       "<div>\n",
       "<style>\n",
       "    .dataframe thead tr:only-child th {\n",
       "        text-align: right;\n",
       "    }\n",
       "\n",
       "    .dataframe thead th {\n",
       "        text-align: left;\n",
       "    }\n",
       "\n",
       "    .dataframe tbody tr th {\n",
       "        vertical-align: top;\n",
       "    }\n",
       "</style>\n",
       "<table border=\"1\" class=\"dataframe\">\n",
       "  <thead>\n",
       "    <tr style=\"text-align: right;\">\n",
       "      <th></th>\n",
       "      <th>x1</th>\n",
       "      <th>x2</th>\n",
       "      <th>x3</th>\n",
       "      <th>x4</th>\n",
       "      <th>x5</th>\n",
       "      <th>x6</th>\n",
       "      <th>x7</th>\n",
       "      <th>x8</th>\n",
       "      <th>x9</th>\n",
       "      <th>x10</th>\n",
       "      <th>x11</th>\n",
       "      <th>x12</th>\n",
       "      <th>x13</th>\n",
       "      <th>y</th>\n",
       "    </tr>\n",
       "  </thead>\n",
       "  <tbody>\n",
       "    <tr>\n",
       "      <th>0</th>\n",
       "      <td>0.00632</td>\n",
       "      <td>18.0</td>\n",
       "      <td>2.31</td>\n",
       "      <td>0</td>\n",
       "      <td>0.538</td>\n",
       "      <td>6.575</td>\n",
       "      <td>65.2</td>\n",
       "      <td>4.0900</td>\n",
       "      <td>1</td>\n",
       "      <td>296</td>\n",
       "      <td>15.3</td>\n",
       "      <td>396.90</td>\n",
       "      <td>4.98</td>\n",
       "      <td>24.0</td>\n",
       "    </tr>\n",
       "    <tr>\n",
       "      <th>1</th>\n",
       "      <td>0.02731</td>\n",
       "      <td>0.0</td>\n",
       "      <td>7.07</td>\n",
       "      <td>0</td>\n",
       "      <td>0.469</td>\n",
       "      <td>6.421</td>\n",
       "      <td>78.9</td>\n",
       "      <td>4.9671</td>\n",
       "      <td>2</td>\n",
       "      <td>242</td>\n",
       "      <td>17.8</td>\n",
       "      <td>396.90</td>\n",
       "      <td>9.14</td>\n",
       "      <td>21.6</td>\n",
       "    </tr>\n",
       "    <tr>\n",
       "      <th>2</th>\n",
       "      <td>0.02729</td>\n",
       "      <td>0.0</td>\n",
       "      <td>7.07</td>\n",
       "      <td>0</td>\n",
       "      <td>0.469</td>\n",
       "      <td>7.185</td>\n",
       "      <td>61.1</td>\n",
       "      <td>4.9671</td>\n",
       "      <td>2</td>\n",
       "      <td>242</td>\n",
       "      <td>17.8</td>\n",
       "      <td>392.83</td>\n",
       "      <td>4.03</td>\n",
       "      <td>34.7</td>\n",
       "    </tr>\n",
       "    <tr>\n",
       "      <th>3</th>\n",
       "      <td>0.03237</td>\n",
       "      <td>0.0</td>\n",
       "      <td>2.18</td>\n",
       "      <td>0</td>\n",
       "      <td>0.458</td>\n",
       "      <td>6.998</td>\n",
       "      <td>45.8</td>\n",
       "      <td>6.0622</td>\n",
       "      <td>3</td>\n",
       "      <td>222</td>\n",
       "      <td>18.7</td>\n",
       "      <td>394.63</td>\n",
       "      <td>2.94</td>\n",
       "      <td>33.4</td>\n",
       "    </tr>\n",
       "    <tr>\n",
       "      <th>4</th>\n",
       "      <td>0.06905</td>\n",
       "      <td>0.0</td>\n",
       "      <td>2.18</td>\n",
       "      <td>0</td>\n",
       "      <td>0.458</td>\n",
       "      <td>7.147</td>\n",
       "      <td>54.2</td>\n",
       "      <td>6.0622</td>\n",
       "      <td>3</td>\n",
       "      <td>222</td>\n",
       "      <td>18.7</td>\n",
       "      <td>396.90</td>\n",
       "      <td>5.33</td>\n",
       "      <td>36.2</td>\n",
       "    </tr>\n",
       "  </tbody>\n",
       "</table>\n",
       "</div>"
      ],
      "text/plain": [
       "        x1    x2    x3  x4     x5     x6    x7      x8  x9  x10   x11     x12  \\\n",
       "0  0.00632  18.0  2.31   0  0.538  6.575  65.2  4.0900   1  296  15.3  396.90   \n",
       "1  0.02731   0.0  7.07   0  0.469  6.421  78.9  4.9671   2  242  17.8  396.90   \n",
       "2  0.02729   0.0  7.07   0  0.469  7.185  61.1  4.9671   2  242  17.8  392.83   \n",
       "3  0.03237   0.0  2.18   0  0.458  6.998  45.8  6.0622   3  222  18.7  394.63   \n",
       "4  0.06905   0.0  2.18   0  0.458  7.147  54.2  6.0622   3  222  18.7  396.90   \n",
       "\n",
       "    x13     y  \n",
       "0  4.98  24.0  \n",
       "1  9.14  21.6  \n",
       "2  4.03  34.7  \n",
       "3  2.94  33.4  \n",
       "4  5.33  36.2  "
      ]
     },
     "execution_count": 5,
     "metadata": {},
     "output_type": "execute_result"
    }
   ],
   "source": [
    "df.head()"
   ]
  },
  {
   "cell_type": "code",
   "execution_count": 6,
   "metadata": {},
   "outputs": [
    {
     "data": {
      "text/plain": [
       "((506, 13), (506,))"
      ]
     },
     "execution_count": 6,
     "metadata": {},
     "output_type": "execute_result"
    }
   ],
   "source": [
    "x = df.drop(['y'], axis=1).astype('float32')\n",
    "t = df['y'].astype('float32')\n",
    "x.shape, t.shape"
   ]
  },
  {
   "cell_type": "code",
   "execution_count": 7,
   "metadata": {},
   "outputs": [
    {
     "data": {
      "text/plain": [
       "(dtype('float32'), (506, 13))"
      ]
     },
     "execution_count": 7,
     "metadata": {},
     "output_type": "execute_result"
    }
   ],
   "source": [
    "x = x.values\n",
    "x.dtype, x.shape"
   ]
  },
  {
   "cell_type": "code",
   "execution_count": 8,
   "metadata": {
    "scrolled": true
   },
   "outputs": [
    {
     "data": {
      "text/plain": [
       "(dtype('float32'), (506, 1))"
      ]
     },
     "execution_count": 8,
     "metadata": {},
     "output_type": "execute_result"
    }
   ],
   "source": [
    "t = t.values\n",
    "t = t.reshape(len(t), 1)\n",
    "t.dtype, t.shape"
   ]
  },
  {
   "cell_type": "code",
   "execution_count": null,
   "metadata": {
    "collapsed": true
   },
   "outputs": [],
   "source": []
  },
  {
   "cell_type": "code",
   "execution_count": 9,
   "metadata": {
    "collapsed": true
   },
   "outputs": [],
   "source": [
    "import chainer\n",
    "import chainer.links as L\n",
    "import chainer.functions as F\n",
    "from chainer.training import extensions"
   ]
  },
  {
   "cell_type": "code",
   "execution_count": 10,
   "metadata": {
    "collapsed": true
   },
   "outputs": [],
   "source": [
    "dataset = list(zip(x, t))"
   ]
  },
  {
   "cell_type": "code",
   "execution_count": 11,
   "metadata": {},
   "outputs": [],
   "source": [
    "n_train = int(len(dataset) * 0.7)\n",
    "train, test = chainer.datasets.split_dataset_random(dataset, \n",
    "                                                    n_train,\n",
    "                                                    seed=0)"
   ]
  },
  {
   "cell_type": "code",
   "execution_count": 12,
   "metadata": {
    "scrolled": true
   },
   "outputs": [
    {
     "data": {
      "text/plain": [
       "(354, 152)"
      ]
     },
     "execution_count": 12,
     "metadata": {},
     "output_type": "execute_result"
    }
   ],
   "source": [
    "len(train), len(test)"
   ]
  },
  {
   "cell_type": "code",
   "execution_count": 13,
   "metadata": {},
   "outputs": [
    {
     "data": {
      "text/plain": [
       "((13,), array([22.6], dtype=float32))"
      ]
     },
     "execution_count": 13,
     "metadata": {},
     "output_type": "execute_result"
    }
   ],
   "source": [
    "train[0][0].shape, train[0][1]"
   ]
  },
  {
   "cell_type": "code",
   "execution_count": 14,
   "metadata": {},
   "outputs": [],
   "source": [
    "# define model\n",
    "input_shape = train[0][0].shape[0]\n",
    "\n",
    "class NN(chainer.Chain):\n",
    "    def __init__(self, n_mid_units=5):\n",
    "        super().__init__()\n",
    "        with self.init_scope():\n",
    "            self.fc1 = L.Linear(input_shape, n_mid_units)\n",
    "            self.fc2 = L.Linear(n_mid_units, 1)\n",
    "            \n",
    "    # forward\n",
    "    def __call__(self, x):\n",
    "        h = self.fc1(x)\n",
    "        h = F.relu(h)\n",
    "        h = self.fc2(h)\n",
    "        return h"
   ]
  },
  {
   "cell_type": "code",
   "execution_count": 15,
   "metadata": {},
   "outputs": [],
   "source": [
    "# Fix seed / hyperparameter\n",
    "np.random.seed(0)\n",
    "batchsize = 10\n",
    "epoch = 100\n",
    "device = -1\n",
    "\n",
    "# define model\n",
    "nn = NN()\n",
    "model = L.Classifier(nn, lossfun=F.mean_squared_error)\n",
    "model.compute_accuracy = False\n",
    "\n",
    "# Setting Learning\n",
    "optimizer = chainer.optimizers.Adam()\n",
    "optimizer.setup(model)\n",
    "\n",
    "train_iter = chainer.iterators.SerialIterator(train, batchsize)\n",
    "test_iter = chainer.iterators.SerialIterator(test, batchsize,\n",
    "                                            repeat=False,\n",
    "                                            shuffle=False)\n",
    "\n",
    "updater = chainer.training.StandardUpdater(train_iter, \n",
    "                                           optimizer,\n",
    "                                          device=device)\n",
    "\n",
    "trainer = chainer.training.Trainer(updater,\n",
    "                                   (epoch, 'epoch'),\n",
    "                                   out='result/regg')\n",
    "trainer.extend(extensions.Evaluator(test_iter, \n",
    "                                    model, device=device))\n",
    "trainer.extend(extensions.LogReport(trigger=(1, 'epoch')))\n",
    "\n",
    "trainer.run()"
   ]
  },
  {
   "cell_type": "code",
   "execution_count": 16,
   "metadata": {},
   "outputs": [
    {
     "data": {
      "text/plain": [
       "(6.166848504002701,\n",
       " {'main/loss': variable(240.4399), 'validation/main/loss': 70.49882316589355})"
      ]
     },
     "execution_count": 16,
     "metadata": {},
     "output_type": "execute_result"
    }
   ],
   "source": [
    "trainer.elapsed_time, trainer.observation"
   ]
  },
  {
   "cell_type": "markdown",
   "metadata": {},
   "source": [
    "関数化して改善していく"
   ]
  },
  {
   "cell_type": "code",
   "execution_count": 17,
   "metadata": {
    "collapsed": true
   },
   "outputs": [],
   "source": [
    "# define model\n",
    "input_shape = train[0][0].shape[0]\n",
    "\n",
    "class NN(chainer.Chain):\n",
    "    def __init__(self, n_mid_units=5):\n",
    "        super().__init__()\n",
    "        with self.init_scope():\n",
    "            self.fc1 = L.Linear(input_shape, n_mid_units)\n",
    "            self.fc2 = L.Linear(n_mid_units, 1)\n",
    "            \n",
    "    # forward\n",
    "    def __call__(self, x):\n",
    "        h = self.fc1(x)\n",
    "        h = F.relu(h)\n",
    "        h = self.fc2(h)\n",
    "        return h"
   ]
  },
  {
   "cell_type": "code",
   "execution_count": 18,
   "metadata": {
    "collapsed": true
   },
   "outputs": [],
   "source": [
    "def model_train(nn, setting):\n",
    "    # Fix seed / hyperparameter\n",
    "    np.random.seed(0)\n",
    "    batchsize = setting['batch_size']\n",
    "    epoch = setting['epochs']\n",
    "    if setting['device'] == 'CPU':\n",
    "        device = -1\n",
    "    elif setting['device'] == 'GPU':\n",
    "        device = 0\n",
    "\n",
    "    # Fix seed / hyperparameter\n",
    "    np.random.seed(0)\n",
    "    batchsize = 10\n",
    "    epoch = 100\n",
    "    device = -1\n",
    "\n",
    "    # define model\n",
    "    model = L.Classifier(nn, lossfun=F.mean_squared_error)\n",
    "    model.compute_accuracy = False\n",
    "\n",
    "    # Setting Learning\n",
    "    optimizer = chainer.optimizers.Adam()\n",
    "    optimizer.setup(model)\n",
    "\n",
    "    train_iter = chainer.iterators.SerialIterator(train, batchsize)\n",
    "    test_iter = chainer.iterators.SerialIterator(test, batchsize,\n",
    "                                                repeat=False,\n",
    "                                                shuffle=False)\n",
    "\n",
    "    updater = chainer.training.StandardUpdater(train_iter, \n",
    "                                               optimizer,\n",
    "                                              device=device)\n",
    "\n",
    "    trainer = chainer.training.Trainer(updater,\n",
    "                                       (epoch, 'epoch'),\n",
    "                                       out='./result/regg')\n",
    "    trainer.extend(extensions.Evaluator(test_iter, \n",
    "                                        model, device=device))\n",
    "    trainer.extend(extensions.LogReport(trigger=(1, 'epoch')))\n",
    "\n",
    "    trainer.run()\n",
    "    \n",
    "    print('Learn time:', trainer.elapsed_time)\n",
    "    print('Valid loss:', trainer.observation['validation/main/loss'])\n",
    "    print('Valid RMSE:', np.sqrt(trainer.observation['validation/main/loss']))\n",
    "    \n",
    "    with open('./result/regg/log') as f:\n",
    "        result = pd.DataFrame(json.load(f))\n",
    "\n",
    "    result[['main/loss', 'validation/main/loss']].plot()\n",
    "    \n",
    "    return model"
   ]
  },
  {
   "cell_type": "code",
   "execution_count": 19,
   "metadata": {},
   "outputs": [
    {
     "name": "stdout",
     "output_type": "stream",
     "text": [
      "Learn time: 6.345996138999908\n",
      "Valid loss: 58.43198323249817\n",
      "Valid RMSE: 7.6440815820148185\n"
     ]
    },
    {
     "data": {
      "image/png": "[encoded data removed]",
      "text/plain": [
       "<matplotlib.figure.Figure at 0x7fac58ec0ba8>"
      ]
     },
     "metadata": {},
     "output_type": "display_data"
    }
   ],
   "source": [
    "chainer_model = NN()\n",
    "setting = {\n",
    "    'batch_size': 50,\n",
    "    'epochs': 10,\n",
    "    'device': 'CPU'\n",
    "}\n",
    "\n",
    "model = model_train(chainer_model, setting)"
   ]
  },
  {
   "cell_type": "code",
   "execution_count": 20,
   "metadata": {},
   "outputs": [
    {
     "name": "stdout",
     "output_type": "stream",
     "text": [
      "Learn time: 8.593097986999055\n",
      "Valid loss: 25.171178862452507\n",
      "Valid RMSE: 5.017088683933393\n"
     ]
    },
    {
     "data": {
      "image/png": "[encoded data removed]",
      "text/plain": [
       "<matplotlib.figure.Figure at 0x7fac58dc40b8>"
      ]
     },
     "metadata": {},
     "output_type": "display_data"
    }
   ],
   "source": [
    "input_shape = train[0][0].shape[0]\n",
    "\n",
    "class NN(chainer.Chain):\n",
    "    def __init__(self, n_mid_units=5):\n",
    "        super().__init__()\n",
    "        with self.init_scope():\n",
    "            self.fc1 = L.Linear(input_shape, n_mid_units)\n",
    "            self.fc2 = L.Linear(n_mid_units, 1)\n",
    "            self.bn = L.BatchNormalization(input_shape)\n",
    "            \n",
    "    # forward\n",
    "    def __call__(self, x):\n",
    "        h = self.bn(x)\n",
    "        h = self.fc1(h)\n",
    "        h = F.relu(h)\n",
    "        h = self.fc2(h)\n",
    "        return h\n",
    "\n",
    "chainer_model = NN(10)\n",
    "setting = {\n",
    "    'batch_size': 50,\n",
    "    'epochs': 10,\n",
    "    'device': 'CPU'\n",
    "}\n",
    "\n",
    "model = model_train(chainer_model, setting)"
   ]
  },
  {
   "cell_type": "code",
   "execution_count": 21,
   "metadata": {},
   "outputs": [
    {
     "name": "stdout",
     "output_type": "stream",
     "text": [
      "Learn time: 11.367734813000425\n",
      "Valid loss: 22.580593317747116\n",
      "Valid RMSE: 4.751904178089781\n"
     ]
    },
    {
     "data": {
      "image/png": "[encoded data removed]",
      "text/plain": [
       "<matplotlib.figure.Figure at 0x7fac58d26cf8>"
      ]
     },
     "metadata": {},
     "output_type": "display_data"
    }
   ],
   "source": [
    "input_shape = train[0][0].shape[0]\n",
    "\n",
    "class NN(chainer.Chain):\n",
    "    def __init__(self, n_mid_units=5):\n",
    "        super().__init__()\n",
    "        with self.init_scope():\n",
    "            self.fc1 = L.Linear(input_shape, n_mid_units)\n",
    "            self.fc2 = L.Linear(None, n_mid_units)\n",
    "            self.fc3 = L.Linear(n_mid_units, 1)\n",
    "            self.bn = L.BatchNormalization(input_shape)\n",
    "            \n",
    "    # forward\n",
    "    def __call__(self, x):\n",
    "        h = self.bn(x)\n",
    "        h = self.fc1(h)\n",
    "        h = F.relu(h)\n",
    "        h = self.fc2(h)\n",
    "        h = F.relu(h)\n",
    "        h = self.fc3(h)\n",
    "        return h\n",
    "\n",
    "chainer_model = NN()\n",
    "setting = {\n",
    "    'batch_size': 50,\n",
    "    'epochs': 10,\n",
    "    'device': 'CPU'\n",
    "}\n",
    "\n",
    "model = model_train(chainer_model, setting)"
   ]
  },
  {
   "cell_type": "code",
   "execution_count": 22,
   "metadata": {},
   "outputs": [
    {
     "name": "stdout",
     "output_type": "stream",
     "text": [
      "Learn time: 10.806389168999885\n",
      "Valid loss: 13.262530446052551\n",
      "Valid RMSE: 3.64177572703929\n"
     ]
    },
    {
     "data": {
      "image/png": "[encoded data removed]",
      "text/plain": [
       "<matplotlib.figure.Figure at 0x7fac58ca9e10>"
      ]
     },
     "metadata": {},
     "output_type": "display_data"
    }
   ],
   "source": [
    "input_shape = train[0][0].shape[0]\n",
    "\n",
    "class NN(chainer.Chain):\n",
    "    def __init__(self, n_mid_units=5):\n",
    "        super().__init__()\n",
    "        with self.init_scope():\n",
    "            self.fc1 = L.Linear(input_shape, n_mid_units)\n",
    "            self.fc2 = L.Linear(None, n_mid_units)\n",
    "            self.fc3 = L.Linear(n_mid_units, 1)\n",
    "            self.bn = L.BatchNormalization(input_shape)\n",
    "            \n",
    "    # forward\n",
    "    def __call__(self, x):\n",
    "        h = self.bn(x)\n",
    "        h = self.fc1(h)\n",
    "        h = F.relu(h)\n",
    "        h = self.fc2(h)\n",
    "        h = F.relu(h)\n",
    "        h = self.fc3(h)\n",
    "        return h\n",
    "\n",
    "chainer_model = NN(20)\n",
    "setting = {\n",
    "    'batch_size': 50,\n",
    "    'epochs': 10,\n",
    "    'device': 'CPU'\n",
    "}\n",
    "\n",
    "model = model_train(chainer_model, setting)"
   ]
  },
  {
   "cell_type": "code",
   "execution_count": 23,
   "metadata": {},
   "outputs": [
    {
     "name": "stdout",
     "output_type": "stream",
     "text": [
      "Learn time: 13.613099065001734\n",
      "Valid loss: 11.063908264040947\n",
      "Valid RMSE: 3.326245370390006\n"
     ]
    },
    {
     "data": {
      "image/png": "[encoded data removed]",
      "text/plain": [
       "<matplotlib.figure.Figure at 0x7fac58c218d0>"
      ]
     },
     "metadata": {},
     "output_type": "display_data"
    }
   ],
   "source": [
    "input_shape = train[0][0].shape[0]\n",
    "\n",
    "class NN(chainer.Chain):\n",
    "    def __init__(self, n_mid_units=5):\n",
    "        super().__init__()\n",
    "        with self.init_scope():\n",
    "            self.fc1 = L.Linear(input_shape, n_mid_units)\n",
    "            self.fc2 = L.Linear(None, n_mid_units)\n",
    "            self.fc3 = L.Linear(n_mid_units, 1)\n",
    "            self.bn = L.BatchNormalization(input_shape)\n",
    "            \n",
    "    # forward\n",
    "    def __call__(self, x):\n",
    "        h = self.bn(x)\n",
    "        h = self.fc1(h)\n",
    "        h = F.relu(h)\n",
    "        h = self.fc2(h)\n",
    "        h = F.relu(h)\n",
    "        h = self.fc3(h)\n",
    "        return h\n",
    "\n",
    "chainer_model = NN(200)\n",
    "setting = {\n",
    "    'batch_size': 100,\n",
    "    'epochs': 10,\n",
    "    'device': 'CPU'\n",
    "}\n",
    "\n",
    "model = model_train(chainer_model, setting)"
   ]
  },
  {
   "cell_type": "code",
   "execution_count": 24,
   "metadata": {},
   "outputs": [
    {
     "name": "stdout",
     "output_type": "stream",
     "text": [
      "Learn time: 81.05999915000211\n",
      "Valid loss: 7.628625839948654\n",
      "Valid RMSE: 2.7619967125159026\n"
     ]
    },
    {
     "data": {
      "image/png": "[encoded data removed]",
      "text/plain": [
       "<matplotlib.figure.Figure at 0x7fac58c47cc0>"
      ]
     },
     "metadata": {},
     "output_type": "display_data"
    }
   ],
   "source": [
    "input_shape = train[0][0].shape[0]\n",
    "\n",
    "class NN(chainer.Chain):\n",
    "    def __init__(self, n_mid_units=5):\n",
    "        super().__init__()\n",
    "        with self.init_scope():\n",
    "            self.fc1 = L.Linear(input_shape, n_mid_units)\n",
    "            self.fc2 = L.Linear(None, n_mid_units)\n",
    "            self.fc3 = L.Linear(n_mid_units, 1)\n",
    "            self.bn = L.BatchNormalization(input_shape)\n",
    "            \n",
    "    # forward\n",
    "    def __call__(self, x):\n",
    "        h = self.bn(x)\n",
    "        h = self.fc1(h)\n",
    "        h = F.relu(h)\n",
    "        h = self.fc2(h)\n",
    "        h = F.relu(h)\n",
    "        h = self.fc3(h)\n",
    "        return h\n",
    "\n",
    "chainer_model = NN(1000)\n",
    "setting = {\n",
    "    'batch_size': 50,\n",
    "    'epochs': 10,\n",
    "    'device': 'CPU'\n",
    "}\n",
    "\n",
    "model = model_train(chainer_model, setting)"
   ]
  },
  {
   "cell_type": "code",
   "execution_count": 28,
   "metadata": {},
   "outputs": [
    {
     "name": "stdout",
     "output_type": "stream",
     "text": [
      "Learn time: 23.55397302700294\n",
      "Valid loss: 14.927029117941856\n",
      "Valid RMSE: 3.8635513608520666\n"
     ]
    },
    {
     "data": {
      "image/png": "[encoded data removed]",
      "text/plain": [
       "<matplotlib.figure.Figure at 0x7fac58a7dcc0>"
      ]
     },
     "metadata": {},
     "output_type": "display_data"
    }
   ],
   "source": [
    "input_shape = train[0][0].shape[0]\n",
    "\n",
    "class NN(chainer.Chain):\n",
    "    def __init__(self, n_mid_units=5):\n",
    "        super().__init__()\n",
    "        with self.init_scope():\n",
    "            self.fc1 = L.Linear(input_shape, n_mid_units)\n",
    "            self.fc2 = L.Linear(None, 100)\n",
    "            self.fc3 = L.Linear(None, 50)\n",
    "            self.fc4 = L.Linear(None, 10)\n",
    "            self.fc5 = L.Linear(10, 1)\n",
    "            self.bn = L.BatchNormalization(input_shape)\n",
    "            \n",
    "    # forward\n",
    "    def __call__(self, x):\n",
    "        h = self.bn(x)\n",
    "        h = self.fc1(h)\n",
    "        h = F.relu(h)\n",
    "        h = self.fc2(h)\n",
    "        h = F.relu(h)\n",
    "        h = self.fc3(h)\n",
    "        h = F.relu(h)\n",
    "        h = self.fc4(h)\n",
    "        h = F.relu(h)\n",
    "        h = self.fc5(h)\n",
    "        return h\n",
    "\n",
    "chainer_model = NN(1000)\n",
    "setting = {\n",
    "    'batch_size': 50,\n",
    "    'epochs': 10,\n",
    "    'device': 'CPU'\n",
    "}\n",
    "\n",
    "model = model_train(chainer_model, setting)"
   ]
  },
  {
   "cell_type": "code",
   "execution_count": 30,
   "metadata": {
    "scrolled": false
   },
   "outputs": [
    {
     "name": "stdout",
     "output_type": "stream",
     "text": [
      "Learn time: 15.905169564997777\n",
      "Valid loss: 86.09162247180939\n",
      "Valid RMSE: 9.278557133078904\n"
     ]
    },
    {
     "data": {
      "image/png": "[encoded data removed]",
      "text/plain": [
       "<matplotlib.figure.Figure at 0x7fac58c0cb38>"
      ]
     },
     "metadata": {},
     "output_type": "display_data"
    }
   ],
   "source": [
    "input_shape = train[0][0].shape[0]\n",
    "\n",
    "class NN(chainer.Chain):\n",
    "    def __init__(self, n_mid_units=5):\n",
    "        super().__init__()\n",
    "        with self.init_scope():\n",
    "            self.fc1 = L.Linear(input_shape, n_mid_units)\n",
    "            self.fc2 = L.Linear(None, 100)\n",
    "            self.fc3 = L.Linear(None, 50)\n",
    "            self.fc4 = L.Linear(None, 10)\n",
    "            self.fc5 = L.Linear(10, 1)\n",
    "            self.bn = L.BatchNormalization(input_shape)\n",
    "            \n",
    "    # forward\n",
    "    def __call__(self, x):\n",
    "        h = self.bn(x)\n",
    "        h = self.fc1(h)\n",
    "        h = F.relu(h)\n",
    "        h = F.dropout(h, ratio=0.75)\n",
    "        h = self.fc2(h)\n",
    "        h = F.relu(h)\n",
    "        h = F.dropout(h, ratio=0.5)\n",
    "        h = self.fc3(h)\n",
    "        h = F.relu(h)\n",
    "        h = self.fc4(h)\n",
    "        h = F.relu(h)\n",
    "        h = self.fc5(h)\n",
    "        return h\n",
    "\n",
    "chainer_model = NN(100)\n",
    "setting = {\n",
    "    'batch_size': 50,\n",
    "    'epochs': 10,\n",
    "    'device': 'CPU'\n",
    "}\n",
    "\n",
    "model = model_train(chainer_model, setting)"
   ]
  },
  {
   "cell_type": "code",
   "execution_count": 37,
   "metadata": {},
   "outputs": [
    {
     "data": {
      "text/plain": [
       "<matplotlib.axes._subplots.AxesSubplot at 0x7fac58c1ce48>"
      ]
     },
     "execution_count": 37,
     "metadata": {},
     "output_type": "execute_result"
    },
    {
     "data": {
      "image/png": "[encoded data removed]",
      "text/plain": [
       "<matplotlib.figure.Figure at 0x7fac58b9e828>"
      ]
     },
     "metadata": {},
     "output_type": "display_data"
    }
   ],
   "source": [
    "df['y'].hist()"
   ]
  },
  {
   "cell_type": "code",
   "execution_count": 43,
   "metadata": {},
   "outputs": [],
   "source": [
    "# 元データのyがでかい部分をけす\n",
    "df_dropped = df[df['y'] <= 48]\n",
    "df_dropped.shape, df.shape\n",
    "\n",
    "x = df.drop(['y'], axis=1).astype('float32')\n",
    "t = df_drop['y'].astype('float32')\n",
    "\n",
    "x = x.values\n",
    "t = t.values\n",
    "t = t.reshape(len(t), 1)\n",
    "dataset = list(zip(x, t))\n",
    "\n",
    "n_train = int(len(dataset) * 0.7)\n",
    "train, test = chainer.datasets.split_dataset_random(dataset, \n",
    "                                                    n_train,\n",
    "                                                    seed=0)"
   ]
  },
  {
   "cell_type": "code",
   "execution_count": 44,
   "metadata": {},
   "outputs": [
    {
     "data": {
      "text/plain": [
       "<matplotlib.axes._subplots.AxesSubplot at 0x7fabf7248908>"
      ]
     },
     "execution_count": 44,
     "metadata": {},
     "output_type": "execute_result"
    },
    {
     "data": {
      "image/png": "[encoded data removed]",
      "text/plain": [
       "<matplotlib.figure.Figure at 0x7fabf71cde48>"
      ]
     },
     "metadata": {},
     "output_type": "display_data"
    }
   ],
   "source": [
    "df_dropped['y'].hist()"
   ]
  },
  {
   "cell_type": "code",
   "execution_count": 46,
   "metadata": {
    "scrolled": true
   },
   "outputs": [
    {
     "name": "stdout",
     "output_type": "stream",
     "text": [
      "Learn time: 80.03375353099909\n",
      "Valid loss: 7.468472994863987\n",
      "Valid RMSE: 2.7328507084844547\n"
     ]
    },
    {
     "data": {
      "image/png": "[encoded data removed]",
      "text/plain": [
       "<matplotlib.figure.Figure at 0x7fabf708d898>"
      ]
     },
     "metadata": {},
     "output_type": "display_data"
    }
   ],
   "source": [
    "input_shape = train[0][0].shape[0]\n",
    "\n",
    "class NN(chainer.Chain):\n",
    "    def __init__(self, n_mid_units=5):\n",
    "        super().__init__()\n",
    "        with self.init_scope():\n",
    "            self.fc1 = L.Linear(input_shape, n_mid_units)\n",
    "            self.fc2 = L.Linear(None, n_mid_units)\n",
    "            self.fc3 = L.Linear(n_mid_units, 1)\n",
    "            self.bn = L.BatchNormalization(input_shape)\n",
    "            \n",
    "    # forward\n",
    "    def __call__(self, x):\n",
    "        h = self.bn(x)\n",
    "        h = self.fc1(h)\n",
    "        h = F.relu(h)\n",
    "        h = self.fc2(h)\n",
    "        h = F.relu(h)\n",
    "        h = self.fc3(h)\n",
    "        return h\n",
    "\n",
    "chainer_model = NN(1000)\n",
    "setting = {\n",
    "    'batch_size': 50,\n",
    "    'epochs': 50,\n",
    "    'device': 'CPU'\n",
    "}\n",
    "\n",
    "model = model_train(chainer_model, setting)"
   ]
  },
  {
   "cell_type": "code",
   "execution_count": null,
   "metadata": {
    "collapsed": true
   },
   "outputs": [],
   "source": []
  }
 ],
 "metadata": {
  "kernelspec": {
   "display_name": "Python 3",
   "language": "python",
   "name": "python3"
  }
 },
 "nbformat": 4,
 "nbformat_minor": 2
}
