{
 "cells": [
  {
   "cell_type": "code",
   "execution_count": 1,
   "metadata": {
    "collapsed": true
   },
   "outputs": [],
   "source": [
    "import MeCab"
   ]
  },
  {
   "cell_type": "code",
   "execution_count": 3,
   "metadata": {},
   "outputs": [],
   "source": [
    "mecab = MeCab.Tagger('-Ochasen')"
   ]
  },
  {
   "cell_type": "code",
   "execution_count": 9,
   "metadata": {},
   "outputs": [
    {
     "name": "stdout",
     "output_type": "stream",
     "text": [
      "こんにちは\tコンニチハ\tこんにちは\t感動詞\t\t\n",
      "、\t、\t、\t記号-読点\t\t\n",
      "私\tワタシ\t私\t名詞-代名詞-一般\t\t\n",
      "は\tハ\tは\t助詞-係助詞\t\t\n",
      "きか\tキカ\tきく\t動詞-自立\t五段・カ行イ音便\t未然形\n",
      "がく\tガク\tがく\t名詞-一般\t\t\n",
      "です\tデス\tです\t助動詞\t特殊・デス\t基本形\n",
      "EOS\n",
      "\n"
     ]
    }
   ],
   "source": [
    "res = mecab.parse('こんにちは、私はきかがくです')\n",
    "print(res)"
   ]
  },
  {
   "cell_type": "code",
   "execution_count": 10,
   "metadata": {},
   "outputs": [
    {
     "data": {
      "text/plain": [
       "'こんにちは\\tコンニチハ\\tこんにちは\\t感動詞\\t\\t\\n、\\t、\\t、\\t記号-読点\\t\\t\\n私\\tワタシ\\t私\\t名詞-代名詞-一般\\t\\t\\nは\\tハ\\tは\\t助詞-係助詞\\t\\t\\nきか\\tキカ\\tきく\\t動詞-自立\\t五段・カ行イ音便\\t未然形\\nがく\\tガク\\tがく\\t名詞-一般\\t\\t\\nです\\tデス\\tです\\t助動詞\\t特殊・デス\\t基本形\\nEOS\\n'"
      ]
     },
     "execution_count": 10,
     "metadata": {},
     "output_type": "execute_result"
    }
   ],
   "source": [
    "res"
   ]
  },
  {
   "cell_type": "code",
   "execution_count": 14,
   "metadata": {},
   "outputs": [
    {
     "name": "stdout",
     "output_type": "stream",
     "text": [
      "キカガク\tキカガク\tキカガク\t名詞-一般\t\t\n",
      "で\tデ\tで\t助詞-格助詞-一般\t\t\n",
      "は\tハ\tは\t助詞-係助詞\t\t\n",
      "、\t、\t、\t記号-読点\t\t\n",
      "ディープラーニング\tディープラーニング\tDeep learning\t名詞-固有名詞-一般\t\t\n",
      "を\tヲ\tを\t助詞-格助詞-一般\t\t\n",
      "含ん\tフクン\t含む\t動詞-自立\t五段・マ行\t連用タ接続\n",
      "だ\tダ\tだ\t助動詞\t特殊・タ\t基本形\n",
      "機械学習\tキカイガクシュウ\t機械学習\t名詞-固有名詞-一般\t\t\n",
      "や\tヤ\tや\t助詞-並立助詞\t\t\n",
      "人工知能\tジンコウチノウ\t人工知能\t名詞-固有名詞-一般\t\t\n",
      "の\tノ\tの\t助詞-連体化\t\t\n",
      "教育\tキョウイク\t教育\t名詞-サ変接続\t\t\n",
      "を\tヲ\tを\t助詞-格助詞-一般\t\t\n",
      "行っ\tオコナッ\t行う\t動詞-自立\t五段・ワ行促音便\t連用タ接続\n",
      "て\tテ\tて\t助詞-接続助詞\t\t\n",
      "い\tイ\tいる\t動詞-非自立\t一段\t連用形\n",
      "ます\tマス\tます\t助動詞\t特殊・マス\t基本形\n",
      "。\t。\t。\t記号-句点\t\t\n",
      "EOS\n",
      "\n"
     ]
    }
   ],
   "source": [
    "text = 'キカガクでは、ディープラーニングを含んだ機械学習や人工知能の教育を行っています。'\n",
    "res = mecab.parse(text)\n",
    "print(res)"
   ]
  },
  {
   "cell_type": "code",
   "execution_count": 17,
   "metadata": {},
   "outputs": [
    {
     "data": {
      "text/plain": [
       "['キカガク\\tキカガク\\tキカガク\\t名詞-一般\\t\\t',\n",
       " 'で\\tデ\\tで\\t助詞-格助詞-一般\\t\\t',\n",
       " 'は\\tハ\\tは\\t助詞-係助詞\\t\\t',\n",
       " '、\\t、\\t、\\t記号-読点\\t\\t',\n",
       " 'ディープラーニング\\tディープラーニング\\tDeep learning\\t名詞-固有名詞-一般\\t\\t',\n",
       " 'を\\tヲ\\tを\\t助詞-格助詞-一般\\t\\t',\n",
       " '含ん\\tフクン\\t含む\\t動詞-自立\\t五段・マ行\\t連用タ接続',\n",
       " 'だ\\tダ\\tだ\\t助動詞\\t特殊・タ\\t基本形',\n",
       " '機械学習\\tキカイガクシュウ\\t機械学習\\t名詞-固有名詞-一般\\t\\t',\n",
       " 'や\\tヤ\\tや\\t助詞-並立助詞\\t\\t',\n",
       " '人工知能\\tジンコウチノウ\\t人工知能\\t名詞-固有名詞-一般\\t\\t',\n",
       " 'の\\tノ\\tの\\t助詞-連体化\\t\\t',\n",
       " '教育\\tキョウイク\\t教育\\t名詞-サ変接続\\t\\t',\n",
       " 'を\\tヲ\\tを\\t助詞-格助詞-一般\\t\\t',\n",
       " '行っ\\tオコナッ\\t行う\\t動詞-自立\\t五段・ワ行促音便\\t連用タ接続',\n",
       " 'て\\tテ\\tて\\t助詞-接続助詞\\t\\t',\n",
       " 'い\\tイ\\tいる\\t動詞-非自立\\t一段\\t連用形',\n",
       " 'ます\\tマス\\tます\\t助動詞\\t特殊・マス\\t基本形',\n",
       " '。\\t。\\t。\\t記号-句点\\t\\t']"
      ]
     },
     "execution_count": 17,
     "metadata": {},
     "output_type": "execute_result"
    }
   ],
   "source": [
    "res.split('\\n')[:-2]"
   ]
  },
  {
   "cell_type": "code",
   "execution_count": 20,
   "metadata": {},
   "outputs": [
    {
     "data": {
      "text/plain": [
       "'名詞-一般'"
      ]
     },
     "execution_count": 20,
     "metadata": {},
     "output_type": "execute_result"
    }
   ],
   "source": [
    "res.split('\\n')[0].split('\\t')[3]"
   ]
  },
  {
   "cell_type": "code",
   "execution_count": 46,
   "metadata": {},
   "outputs": [
    {
     "data": {
      "text/plain": [
       "['キカガク', 'ディープラーニング', '機械学習', '人工知能', '教育']"
      ]
     },
     "execution_count": 46,
     "metadata": {},
     "output_type": "execute_result"
    }
   ],
   "source": [
    "# 名詞であるもののみをリスト化する\n",
    "key_word = '名詞'\n",
    "\n",
    "nouns = []\n",
    "words = res.split('\\n')[:-2]\n",
    "\n",
    "for word in words:\n",
    "    part = word.split('\\t')\n",
    "    if key_word in part[3]:\n",
    "        nouns.append(part[0])\n",
    "nouns"
   ]
  },
  {
   "cell_type": "code",
   "execution_count": 47,
   "metadata": {},
   "outputs": [
    {
     "data": {
      "text/plain": [
       "['キカガク', 'ディープラーニング', '機械学習', '人工知能', '教育']"
      ]
     },
     "execution_count": 47,
     "metadata": {},
     "output_type": "execute_result"
    }
   ],
   "source": [
    "# ワンライナー\n",
    "nouns = [word.split('\\t')[0] for word in words if key_word in word.split('\\t')[3]]\n",
    "nouns"
   ]
  },
  {
   "cell_type": "markdown",
   "metadata": {},
   "source": [
    "演習"
   ]
  },
  {
   "cell_type": "code",
   "execution_count": 23,
   "metadata": {
    "collapsed": true
   },
   "outputs": [],
   "source": [
    "text1 = 'キカガクでは、ディープラーニングを含んだ機械学習や人工知能の教育を行っています。'\n",
    "text2 = '代表の吉崎は大学院では機械学習・ロボットのシステム制御、画像処理の研究に携わっていました。'\n",
    "text3 = '機械学習、システム制御、画像処理ではすべて線形代数とプログラミングが不可欠になります。'"
   ]
  },
  {
   "cell_type": "code",
   "execution_count": 53,
   "metadata": {
    "collapsed": true
   },
   "outputs": [],
   "source": [
    "def get_nouns(text, key_word='名詞'):\n",
    "    nouns = []\n",
    "    res = mecab.parse(text)\n",
    "    words = res.split('\\n')[:-2]\n",
    "\n",
    "    for word in words:\n",
    "        part = word.split('\\t')\n",
    "        if key_word in part[3]:\n",
    "            nouns.append(part[0])\n",
    "    return nouns"
   ]
  },
  {
   "cell_type": "code",
   "execution_count": 54,
   "metadata": {},
   "outputs": [
    {
     "data": {
      "text/plain": [
       "['キカガク', 'ディープラーニング', '機械学習', '人工知能', '教育']"
      ]
     },
     "execution_count": 54,
     "metadata": {},
     "output_type": "execute_result"
    }
   ],
   "source": [
    "get_nouns(text)"
   ]
  },
  {
   "cell_type": "code",
   "execution_count": 57,
   "metadata": {},
   "outputs": [
    {
     "data": {
      "text/plain": [
       "['代表', '吉崎', '大学院', '機械学習', 'ロボット', 'システム', '制御', '画像処理', '研究']"
      ]
     },
     "execution_count": 57,
     "metadata": {},
     "output_type": "execute_result"
    }
   ],
   "source": [
    "get_nouns(text2)"
   ]
  },
  {
   "cell_type": "code",
   "execution_count": 56,
   "metadata": {},
   "outputs": [
    {
     "data": {
      "text/plain": [
       "['機械学習', 'システム', '制御', '画像処理', 'すべて', '線形代数', 'プログラミング', '不可欠']"
      ]
     },
     "execution_count": 56,
     "metadata": {},
     "output_type": "execute_result"
    }
   ],
   "source": [
    "get_nouns(text3)"
   ]
  },
  {
   "cell_type": "code",
   "execution_count": 72,
   "metadata": {},
   "outputs": [
    {
     "data": {
      "text/plain": [
       "['My', 'name', 'is', 'Yoshizaki']"
      ]
     },
     "execution_count": 72,
     "metadata": {},
     "output_type": "execute_result"
    }
   ],
   "source": [
    "get_nouns(\"My name is Yoshizaki.\")"
   ]
  },
  {
   "cell_type": "code",
   "execution_count": 69,
   "metadata": {},
   "outputs": [
    {
     "data": {
      "text/plain": [
       "[]"
      ]
     },
     "execution_count": 69,
     "metadata": {},
     "output_type": "execute_result"
    }
   ],
   "source": [
    "get_nouns(\"내 이름은 요시 자키입니다.\")"
   ]
  },
  {
   "cell_type": "code",
   "execution_count": 73,
   "metadata": {},
   "outputs": [
    {
     "data": {
      "text/plain": [
       "['我', '的', '名字', '是吉', '崎']"
      ]
     },
     "execution_count": 73,
     "metadata": {},
     "output_type": "execute_result"
    }
   ],
   "source": [
    "get_nouns('我的名字是吉崎')"
   ]
  },
  {
   "cell_type": "markdown",
   "metadata": {},
   "source": [
    "特徴量に変換"
   ]
  },
  {
   "cell_type": "code",
   "execution_count": 74,
   "metadata": {
    "collapsed": true
   },
   "outputs": [],
   "source": [
    "from gensim import corpora, matutils"
   ]
  },
  {
   "cell_type": "code",
   "execution_count": 78,
   "metadata": {},
   "outputs": [
    {
     "data": {
      "text/plain": [
       "[['キカガク', 'ディープラーニング', '機械学習', '人工知能', '教育'],\n",
       " ['代表', '吉崎', '大学院', '機械学習', 'ロボット', 'システム', '制御', '画像処理', '研究'],\n",
       " ['機械学習', 'システム', '制御', '画像処理', 'すべて', '線形代数', 'プログラミング', '不可欠']]"
      ]
     },
     "execution_count": 78,
     "metadata": {},
     "output_type": "execute_result"
    }
   ],
   "source": [
    "text1 = 'キカガクでは、ディープラーニングを含んだ機械学習や人工知能の教育を行っています。'\n",
    "text2 = '代表の吉崎は大学院では機械学習・ロボットのシステム制御、画像処理の研究に携わっていました。'\n",
    "text3 = '機械学習、システム制御、画像処理ではすべて線形代数とプログラミングが不可欠になります。'\n",
    "text_list = [text1, text2, text3]\n",
    "\n",
    "word_collect = [get_nouns(text_i) for text_i in text_list]\n",
    "word_collect"
   ]
  },
  {
   "cell_type": "code",
   "execution_count": 93,
   "metadata": {
    "collapsed": true
   },
   "outputs": [],
   "source": [
    "nouns1, nouns2, nouns3 = word_collect"
   ]
  },
  {
   "cell_type": "code",
   "execution_count": 80,
   "metadata": {},
   "outputs": [
    {
     "data": {
      "text/plain": [
       "<gensim.corpora.dictionary.Dictionary at 0x7fcb3193a080>"
      ]
     },
     "execution_count": 80,
     "metadata": {},
     "output_type": "execute_result"
    }
   ],
   "source": [
    "dictionary = corpora.Dictionary(word_collect)\n",
    "dictionary"
   ]
  },
  {
   "cell_type": "code",
   "execution_count": 81,
   "metadata": {},
   "outputs": [
    {
     "data": {
      "text/plain": [
       "17"
      ]
     },
     "execution_count": 81,
     "metadata": {},
     "output_type": "execute_result"
    }
   ],
   "source": [
    "len(dictionary)"
   ]
  },
  {
   "cell_type": "code",
   "execution_count": 85,
   "metadata": {},
   "outputs": [
    {
     "data": {
      "text/plain": [
       "[5, 3, 2, 16, 8, 9, 6, 11, 4, 13, 1, 10, 12, 0, 14, 7, 15]"
      ]
     },
     "execution_count": 85,
     "metadata": {},
     "output_type": "execute_result"
    }
   ],
   "source": [
    "dictionary.keys()"
   ]
  },
  {
   "cell_type": "code",
   "execution_count": 88,
   "metadata": {},
   "outputs": [
    {
     "name": "stdout",
     "output_type": "stream",
     "text": [
      "(5, 'システム')\n",
      "(3, '教育')\n",
      "(2, '機械学習')\n",
      "(16, 'プログラミング')\n",
      "(8, 'ロボット')\n",
      "(9, '吉崎')\n",
      "(6, '画像処理')\n",
      "(11, '研究')\n",
      "(4, 'ディープラーニング')\n",
      "(13, '線形代数')\n",
      "(1, '人工知能')\n",
      "(10, '制御')\n",
      "(12, '代表')\n",
      "(0, 'キカガク')\n",
      "(14, 'すべて')\n",
      "(7, '大学院')\n",
      "(15, '不可欠')\n"
     ]
    }
   ],
   "source": [
    "for word in dictionary.items():\n",
    "    print(word)"
   ]
  },
  {
   "cell_type": "code",
   "execution_count": 90,
   "metadata": {},
   "outputs": [
    {
     "data": {
      "text/plain": [
       "[]"
      ]
     },
     "execution_count": 90,
     "metadata": {},
     "output_type": "execute_result"
    }
   ],
   "source": [
    "dictionary.doc2bow(['aiueo'])"
   ]
  },
  {
   "cell_type": "code",
   "execution_count": 96,
   "metadata": {
    "collapsed": true
   },
   "outputs": [],
   "source": [
    "bow1_id = dictionary.doc2bow(nouns1)\n",
    "bow2_id = dictionary.doc2bow(nouns2)\n",
    "bow3_id = dictionary.doc2bow(nouns3)"
   ]
  },
  {
   "cell_type": "code",
   "execution_count": 97,
   "metadata": {},
   "outputs": [
    {
     "data": {
      "text/plain": [
       "[(0, 1), (1, 1), (2, 1), (3, 1), (4, 1)]"
      ]
     },
     "execution_count": 97,
     "metadata": {},
     "output_type": "execute_result"
    }
   ],
   "source": [
    "bow1_id"
   ]
  },
  {
   "cell_type": "code",
   "execution_count": 102,
   "metadata": {},
   "outputs": [
    {
     "data": {
      "text/plain": [
       "array([[1.],\n",
       "       [1.],\n",
       "       [1.],\n",
       "       [1.],\n",
       "       [1.],\n",
       "       [0.],\n",
       "       [0.],\n",
       "       [0.],\n",
       "       [0.],\n",
       "       [0.],\n",
       "       [0.],\n",
       "       [0.],\n",
       "       [0.],\n",
       "       [0.],\n",
       "       [0.],\n",
       "       [0.],\n",
       "       [0.]], dtype=float32)"
      ]
     },
     "execution_count": 102,
     "metadata": {},
     "output_type": "execute_result"
    }
   ],
   "source": [
    "n_words = len(dictionary)\n",
    "bow = matutils.corpus2dense([bow1_id], n_words)\n",
    "bow"
   ]
  },
  {
   "cell_type": "code",
   "execution_count": 103,
   "metadata": {},
   "outputs": [
    {
     "data": {
      "text/plain": [
       "(17, 1)"
      ]
     },
     "execution_count": 103,
     "metadata": {},
     "output_type": "execute_result"
    }
   ],
   "source": [
    "bow.shape"
   ]
  },
  {
   "cell_type": "code",
   "execution_count": 106,
   "metadata": {},
   "outputs": [
    {
     "data": {
      "text/plain": [
       "(1, 17)"
      ]
     },
     "execution_count": 106,
     "metadata": {},
     "output_type": "execute_result"
    }
   ],
   "source": [
    "bow = bow.T\n",
    "bow.shape"
   ]
  },
  {
   "cell_type": "code",
   "execution_count": 109,
   "metadata": {},
   "outputs": [
    {
     "data": {
      "text/plain": [
       "(17,)"
      ]
     },
     "execution_count": 109,
     "metadata": {},
     "output_type": "execute_result"
    }
   ],
   "source": [
    "bow[0].shape"
   ]
  },
  {
   "cell_type": "code",
   "execution_count": 120,
   "metadata": {},
   "outputs": [],
   "source": [
    "# 入力: [text1, text2, ...]\n",
    "def get_bow(text_list):\n",
    "    '''\n",
    "    arguments: list\n",
    "        [text1, text2, ...]\n",
    "        \n",
    "    returns:\n",
    "        bow: list\n",
    "        dictionary: dictionary\n",
    "    '''\n",
    "    \n",
    "    # 単語を抜き出したリストを作成\n",
    "    word_collect = [get_nouns(text_i) for text_i in text_list]\n",
    "\n",
    "    # ユニークな辞書を作成\n",
    "    dictionary = corpora.Dictionary(word_collect)\n",
    "    \n",
    "    bow = []\n",
    "    # Bag of Wordsを計算\n",
    "    n_words = len(dictionary)\n",
    "    for nouns_i in word_collect:\n",
    "        bow_i = dictionary.doc2bow(nouns_i)\n",
    "        bow.append(matutils.corpus2dense([bow_i], n_words).T[0])\n",
    "    \n",
    "    return bow, dictionary"
   ]
  },
  {
   "cell_type": "code",
   "execution_count": 121,
   "metadata": {},
   "outputs": [
    {
     "data": {
      "text/plain": [
       "[array([1., 1., 1., 1., 1., 0., 0., 0., 0., 0., 0., 0., 0., 0., 0., 0., 0.],\n",
       "       dtype=float32),\n",
       " array([0., 0., 1., 0., 0., 1., 1., 1., 1., 1., 1., 1., 1., 0., 0., 0., 0.],\n",
       "       dtype=float32),\n",
       " array([0., 0., 1., 0., 0., 1., 1., 0., 0., 0., 1., 0., 0., 1., 1., 1., 1.],\n",
       "       dtype=float32)]"
      ]
     },
     "execution_count": 121,
     "metadata": {},
     "output_type": "execute_result"
    }
   ],
   "source": [
    "bow, dictionary = get_bow(text_list)\n",
    "bow"
   ]
  },
  {
   "cell_type": "code",
   "execution_count": 119,
   "metadata": {},
   "outputs": [
    {
     "name": "stdout",
     "output_type": "stream",
     "text": [
      "(5, 'システム')\n",
      "(3, '教育')\n",
      "(2, '機械学習')\n",
      "(16, 'プログラミング')\n",
      "(8, 'ロボット')\n",
      "(9, '吉崎')\n",
      "(6, '画像処理')\n",
      "(11, '研究')\n",
      "(4, 'ディープラーニング')\n",
      "(13, '線形代数')\n",
      "(1, '人工知能')\n",
      "(10, '制御')\n",
      "(12, '代表')\n",
      "(0, 'キカガク')\n",
      "(14, 'すべて')\n",
      "(7, '大学院')\n",
      "(15, '不可欠')\n"
     ]
    }
   ],
   "source": [
    "for i in dictionary.items():\n",
    "    print(i)"
   ]
  },
  {
   "cell_type": "code",
   "execution_count": 125,
   "metadata": {},
   "outputs": [
    {
     "data": {
      "text/plain": [
       "(3, 17)"
      ]
     },
     "execution_count": 125,
     "metadata": {},
     "output_type": "execute_result"
    }
   ],
   "source": [
    "import numpy as np\n",
    "np.array(bow).shape"
   ]
  },
  {
   "cell_type": "code",
   "execution_count": null,
   "metadata": {
    "collapsed": true
   },
   "outputs": [],
   "source": []
  }
 ],
 "metadata": {
  "kernelspec": {
   "display_name": "Python 3",
   "language": "python",
   "name": "python3"
  },
  "language_info": {
   "codemirror_mode": {
    "name": "ipython",
    "version": 3
   },
   "file_extension": ".py",
   "mimetype": "text/x-python",
   "name": "python",
   "nbconvert_exporter": "python",
   "pygments_lexer": "ipython3",
   "version": "3.5.2"
  }
 },
 "nbformat": 4,
 "nbformat_minor": 2
}
