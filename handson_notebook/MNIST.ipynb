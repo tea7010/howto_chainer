{
 "cells": [
  {
   "cell_type": "code",
   "execution_count": 48,
   "metadata": {
    "collapsed": true
   },
   "outputs": [],
   "source": [
    "%matplotlib inline\n",
    "import json\n",
    "import numpy as np\n",
    "import pandas as pd\n",
    "import matplotlib.pyplot as plt\n",
    "\n",
    "import chainer\n",
    "import chainer.links as L\n",
    "import chainer.functions as F\n",
    "from chainer import training\n",
    "from chainer.training import extensions"
   ]
  },
  {
   "cell_type": "code",
   "execution_count": 8,
   "metadata": {},
   "outputs": [
    {
     "data": {
      "text/plain": [
       "chainer.datasets.tuple_dataset.TupleDataset"
      ]
     },
     "execution_count": 8,
     "metadata": {},
     "output_type": "execute_result"
    }
   ],
   "source": [
    "# get dataset\n",
    "train, test = chainer.datasets.get_mnist(ndim=3)\n",
    "type(train)"
   ]
  },
  {
   "cell_type": "code",
   "execution_count": 9,
   "metadata": {},
   "outputs": [
    {
     "data": {
      "text/plain": [
       "(60000, 10000)"
      ]
     },
     "execution_count": 9,
     "metadata": {},
     "output_type": "execute_result"
    }
   ],
   "source": [
    "len(train), len(test)"
   ]
  },
  {
   "cell_type": "code",
   "execution_count": 13,
   "metadata": {},
   "outputs": [
    {
     "data": {
      "text/plain": [
       "(numpy.ndarray, numpy.int32)"
      ]
     },
     "execution_count": 13,
     "metadata": {},
     "output_type": "execute_result"
    }
   ],
   "source": [
    "type(train[0][0]), type(train[0][1])"
   ]
  },
  {
   "cell_type": "code",
   "execution_count": 18,
   "metadata": {},
   "outputs": [
    {
     "data": {
      "text/plain": [
       "((1, 28, 28), ())"
      ]
     },
     "execution_count": 18,
     "metadata": {},
     "output_type": "execute_result"
    }
   ],
   "source": [
    "train[0][0].shape, train[0][1].shape"
   ]
  },
  {
   "cell_type": "code",
   "execution_count": 20,
   "metadata": {},
   "outputs": [
    {
     "data": {
      "text/plain": [
       "(dtype('float32'), dtype('int32'))"
      ]
     },
     "execution_count": 20,
     "metadata": {},
     "output_type": "execute_result"
    }
   ],
   "source": [
    "train[0][0].dtype, train[0][1].dtype"
   ]
  },
  {
   "cell_type": "code",
   "execution_count": 31,
   "metadata": {},
   "outputs": [
    {
     "data": {
      "text/plain": [
       "<matplotlib.image.AxesImage at 0x7fbf518c2e80>"
      ]
     },
     "execution_count": 31,
     "metadata": {},
     "output_type": "execute_result"
    },
    {
     "data": {
      "image/png": "[encoded data removed]",
      "text/plain": [
       "<matplotlib.figure.Figure at 0x7fbf51913710>"
      ]
     },
     "metadata": {},
     "output_type": "display_data"
    }
   ],
   "source": [
    "img = train[0][0]\n",
    "img = np.transpose(img, (1, 2, 0))\n",
    "plt.imshow(img[:, :, 0], cmap='gray')"
   ]
  },
  {
   "cell_type": "code",
   "execution_count": 34,
   "metadata": {},
   "outputs": [],
   "source": [
    "class CNN(chainer.Chain):\n",
    "    def __init__(self, n_mid=100, n_out=10):\n",
    "        super().__init__()\n",
    "        with self.init_scope():\n",
    "            self.cnv1 = L.Convolution2D(in_channels=1, \n",
    "                                        out_channels=3, \n",
    "                                        ksize=3,\n",
    "                                        stride=1,\n",
    "                                        pad=1)\n",
    "            self.fc1 = L.Linear(None, n_mid)\n",
    "            self.fco = L.Linear(None, n_out)\n",
    "            \n",
    "    def __call__(self, x):\n",
    "        h = F.relu(self.cnv1(x))\n",
    "        h = F.max_pooling_2d(h, 3, 3)\n",
    "        h = self.fc1(h)\n",
    "        h = self.fco(h)\n",
    "        return h"
   ]
  },
  {
   "cell_type": "code",
   "execution_count": 36,
   "metadata": {
    "collapsed": true
   },
   "outputs": [],
   "source": [
    "# seedの固定\n",
    "import random\n",
    "\n",
    "def reset_seed(seed=0):\n",
    "    random.seed(seed)\n",
    "    np.random.seed(seed)\n",
    "    if chainer.cuda.available:\n",
    "        chainer.cuda.cupy.random.seed(seed)\n",
    "\n",
    "reset_seed()"
   ]
  },
  {
   "cell_type": "code",
   "execution_count": 53,
   "metadata": {},
   "outputs": [],
   "source": [
    "batch_size = 4000\n",
    "epoch = 30\n",
    "device = 0\n",
    "gpu_id = 0\n",
    "\n",
    "# Model Instance\n",
    "model = L.Classifier(CNN())\n",
    "\n",
    "# GPUにモデルを転送\n",
    "model.to_gpu(gpu_id)\n",
    "\n",
    "# Set Optimizer\n",
    "optimizer = chainer.optimizers.Adam()\n",
    "optimizer.setup(model)\n",
    "\n",
    "train_iter = chainer.iterators.SerialIterator(train, batch_size)\n",
    "test_iter = chainer.iterators.SerialIterator(test, batch_size,\n",
    "                                            repeat=False, shuffle=False)\n",
    "\n",
    "updater = training.StandardUpdater(train_iter, optimizer, device=device)\n",
    "trainer = training.Trainer(updater, \n",
    "                           (epoch, 'epoch'),\n",
    "                          out='mnist')\n",
    "\n",
    "trainer.extend(extensions.Evaluator(test_iter, model, device=device))\n",
    "trainer.extend(extensions.LogReport(trigger=(1, 'epoch')))\n",
    "trainer.extend(extensions.PrintReport(['epoch', 'main/accuracy', 'validation/main/accuracy', 'main/loss', 'validation/main/loss', 'elapsed_time']), trigger=(1, 'epoch'))"
   ]
  },
  {
   "cell_type": "code",
   "execution_count": 54,
   "metadata": {},
   "outputs": [
    {
     "name": "stdout",
     "output_type": "stream",
     "text": [
      "epoch       main/accuracy  validation/main/accuracy  main/loss   validation/main/loss  elapsed_time\n",
      "\u001b[J1           0.436967       0.666667                  2.06245     1.77146               0.697733      \n",
      "\u001b[J2           0.7068         0.772417                  1.52267     1.22181               1.26117       \n",
      "\u001b[J3           0.778367       0.82675                   1.03391     0.804275              1.82866       \n",
      "\u001b[J4           0.8282         0.867417                  0.709371    0.568044              2.39133       \n",
      "\u001b[J5           0.861583       0.889083                  0.533405    0.445494              2.95198       \n",
      "\u001b[J6           0.88175        0.90175                   0.438051    0.37734               3.51409       \n",
      "\u001b[J7           0.892933       0.90825                   0.382081    0.33365               4.07754       \n",
      "\u001b[J8           0.9013         0.911917                  0.345046    0.303633              4.64008       \n",
      "\u001b[J9           0.90845        0.918917                  0.317885    0.281123              5.2037        \n",
      "\u001b[J10          0.9154         0.925083                  0.29625     0.265309              5.76707       \n",
      "\u001b[J11          0.92095        0.93075                   0.277618    0.246252              6.33083       \n",
      "\u001b[J12          0.925183       0.933417                  0.262125    0.233809              6.89268       \n",
      "\u001b[J13          0.929383       0.939                     0.24918     0.223009              7.45818       \n",
      "\u001b[J14          0.9327         0.939833                  0.237372    0.213268              8.02677       \n",
      "\u001b[J15          0.93525        0.943667                  0.227786    0.203107              8.59188       \n",
      "\u001b[J16          0.937167       0.943167                  0.21905     0.197631              9.1596        \n",
      "\u001b[J17          0.9394         0.944917                  0.211642    0.189863              9.72612       \n",
      "\u001b[J18          0.94115        0.94625                   0.204748    0.184556              10.2911       \n",
      "\u001b[J19          0.942317       0.947417                  0.19883     0.181181              10.8575       \n",
      "\u001b[J20          0.94365        0.9475                    0.193349    0.175377              11.4256       \n",
      "\u001b[J21          0.9445         0.949                     0.188481    0.17294               11.9895       \n",
      "\u001b[J22          0.9454         0.951667                  0.184481    0.166973              12.5553       \n",
      "\u001b[J23          0.946717       0.95075                   0.180386    0.165193              13.1225       \n",
      "\u001b[J24          0.94765        0.951                     0.177477    0.160931              13.6915       \n",
      "\u001b[J25          0.94905        0.953                     0.173261    0.157938              14.254        \n",
      "\u001b[J26          0.949433       0.952833                  0.169848    0.156275              14.8146       \n",
      "\u001b[J27          0.9499         0.954083                  0.166907    0.15368               15.3825       \n",
      "\u001b[J28          0.951333       0.954417                  0.16417     0.151538              15.9493       \n",
      "\u001b[J29          0.951933       0.95525                   0.161409    0.14766               16.5174       \n",
      "\u001b[J30          0.952417       0.956167                  0.158538    0.145974              17.0882       \n"
     ]
    }
   ],
   "source": [
    "trainer.run()"
   ]
  },
  {
   "cell_type": "code",
   "execution_count": 51,
   "metadata": {},
   "outputs": [
    {
     "data": {
      "text/plain": [
       "<matplotlib.axes._subplots.AxesSubplot at 0x7fbf519c5390>"
      ]
     },
     "execution_count": 51,
     "metadata": {},
     "output_type": "execute_result"
    },
    {
     "data": {
      "image/png": "[encoded data removed]",
      "text/plain": [
       "<matplotlib.figure.Figure at 0x7fbf516ea588>"
      ]
     },
     "metadata": {},
     "output_type": "display_data"
    }
   ],
   "source": [
    "with open('mnist/log') as f:\n",
    "    result = pd.DataFrame(json.load(f))\n",
    "\n",
    "result[['main/accuracy', 'validation/main/accuracy']].plot()"
   ]
  },
  {
   "cell_type": "code",
   "execution_count": 58,
   "metadata": {},
   "outputs": [
    {
     "data": {
      "text/plain": [
       "<chainer.links.model.classifier.Classifier at 0x7fbf51928f98>"
      ]
     },
     "execution_count": 58,
     "metadata": {},
     "output_type": "execute_result"
    }
   ],
   "source": [
    "# GPUからCPUにモデルを映す\n",
    "model.to_cpu()"
   ]
  },
  {
   "cell_type": "markdown",
   "metadata": {},
   "source": [
    "モデルに予測をさせる"
   ]
  },
  {
   "cell_type": "code",
   "execution_count": 85,
   "metadata": {},
   "outputs": [
    {
     "name": "stdout",
     "output_type": "stream",
     "text": [
      "True label: 4\n",
      "Predict label: 4\n",
      "Predict probalibilty: 0.69452786\n"
     ]
    },
    {
     "data": {
      "image/png": "[encoded data removed]",
      "text/plain": [
       "<matplotlib.figure.Figure at 0x7fbf3fb878d0>"
      ]
     },
     "metadata": {},
     "output_type": "display_data"
    }
   ],
   "source": [
    "x_sample, t_sample = test[np.random.randint(len(test))]\n",
    "plt.imshow(x_sample[0, :, :], cmap='gray')\n",
    "print('True label:', t_sample)\n",
    "\n",
    "y = model.predictor(np.array([x_sample]))\n",
    "predict_prob = F.softmax(y).array.max()\n",
    "predict_y = F.softmax(y).array.argmax()\n",
    "\n",
    "print('Predict label:', predict_y)\n",
    "print('Predict probalibilty:', predict_prob)"
   ]
  },
  {
   "cell_type": "markdown",
   "metadata": {},
   "source": [
    "畳み込みフィルタの確認"
   ]
  },
  {
   "cell_type": "code",
   "execution_count": 89,
   "metadata": {},
   "outputs": [
    {
     "data": {
      "text/plain": [
       "chainer.variable.Parameter"
      ]
     },
     "execution_count": 89,
     "metadata": {},
     "output_type": "execute_result"
    }
   ],
   "source": [
    "W = model.predictor.cnv1.W\n",
    "type(W)"
   ]
  },
  {
   "cell_type": "code",
   "execution_count": 91,
   "metadata": {},
   "outputs": [
    {
     "data": {
      "text/plain": [
       "(3, 1, 3, 3)"
      ]
     },
     "execution_count": 91,
     "metadata": {},
     "output_type": "execute_result"
    }
   ],
   "source": [
    "W.array.shape"
   ]
  },
  {
   "cell_type": "code",
   "execution_count": 104,
   "metadata": {},
   "outputs": [
    {
     "data": {
      "text/plain": [
       "<matplotlib.image.AxesImage at 0x7fbf3e35c048>"
      ]
     },
     "execution_count": 104,
     "metadata": {},
     "output_type": "execute_result"
    },
    {
     "data": {
      "image/png": "[encoded data removed]",
      "text/plain": [
       "<matplotlib.figure.Figure at 0x7fbf3e3c8390>"
      ]
     },
     "metadata": {},
     "output_type": "display_data"
    }
   ],
   "source": [
    "f = W[0, :, :, :]\n",
    "plt.imshow(f.array[0, :, :], cmap='gray')"
   ]
  },
  {
   "cell_type": "code",
   "execution_count": 103,
   "metadata": {},
   "outputs": [
    {
     "data": {
      "text/plain": [
       "<matplotlib.image.AxesImage at 0x7fbf3e3fb0b8>"
      ]
     },
     "execution_count": 103,
     "metadata": {},
     "output_type": "execute_result"
    },
    {
     "data": {
      "image/png": "[encoded data removed]",
      "text/plain": [
       "<matplotlib.figure.Figure at 0x7fbf3e467080>"
      ]
     },
     "metadata": {},
     "output_type": "display_data"
    }
   ],
   "source": [
    "f = W[1, :, :, :]\n",
    "plt.imshow(f.array[0, :, :], cmap='gray')"
   ]
  },
  {
   "cell_type": "code",
   "execution_count": 105,
   "metadata": {},
   "outputs": [
    {
     "data": {
      "text/plain": [
       "<matplotlib.image.AxesImage at 0x7fbf3e33b278>"
      ]
     },
     "execution_count": 105,
     "metadata": {},
     "output_type": "execute_result"
    },
    {
     "data": {
      "image/png": "[encoded data removed]",
      "text/plain": [
       "<matplotlib.figure.Figure at 0x7fbf3e3aab00>"
      ]
     },
     "metadata": {},
     "output_type": "display_data"
    }
   ],
   "source": [
    "f = W[2, :, :, :]\n",
    "plt.imshow(f.array[0, :, :], cmap='gray')"
   ]
  },
  {
   "cell_type": "code",
   "execution_count": null,
   "metadata": {
    "collapsed": true
   },
   "outputs": [],
   "source": []
  }
 ],
 "metadata": {
  "kernelspec": {
   "display_name": "Python 3",
   "language": "python",
   "name": "python3"
  },
  "language_info": {
   "codemirror_mode": {
    "name": "ipython",
    "version": 3
   },
   "file_extension": ".py",
   "mimetype": "text/x-python",
   "name": "python",
   "nbconvert_exporter": "python",
   "pygments_lexer": "ipython3",
   "version": "3.5.2"
  }
 },
 "nbformat": 4,
 "nbformat_minor": 2
}
