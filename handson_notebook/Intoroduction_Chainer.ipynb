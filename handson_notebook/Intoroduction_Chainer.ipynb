{
 "cells": [
  {
   "cell_type": "code",
   "execution_count": 373,
   "metadata": {
    "collapsed": true
   },
   "outputs": [],
   "source": [
    "import chainer\n",
    "import numpy as np"
   ]
  },
  {
   "cell_type": "code",
   "execution_count": 374,
   "metadata": {},
   "outputs": [
    {
     "data": {
      "text/plain": [
       "'4.0.0'"
      ]
     },
     "execution_count": 374,
     "metadata": {},
     "output_type": "execute_result"
    }
   ],
   "source": [
    "chainer.__version__"
   ]
  },
  {
   "cell_type": "code",
   "execution_count": 375,
   "metadata": {
    "collapsed": true
   },
   "outputs": [],
   "source": [
    "L = chainer.links"
   ]
  },
  {
   "cell_type": "code",
   "execution_count": 376,
   "metadata": {},
   "outputs": [
    {
     "data": {
      "text/plain": [
       "variable W([[ 1.0184761 ,  0.23103087,  0.5650746 ],\n",
       "            [ 1.2937803 ,  1.0782351 , -0.56423163]])"
      ]
     },
     "execution_count": 376,
     "metadata": {},
     "output_type": "execute_result"
    }
   ],
   "source": [
    "# weight\n",
    "np.random.seed(0)\n",
    "\n",
    "fc = L.Linear(3, 2)\n",
    "fc.W"
   ]
  },
  {
   "cell_type": "code",
   "execution_count": 377,
   "metadata": {},
   "outputs": [
    {
     "data": {
      "text/plain": [
       "variable b([0., 0.])"
      ]
     },
     "execution_count": 377,
     "metadata": {},
     "output_type": "execute_result"
    }
   ],
   "source": [
    "# bias\n",
    "fc.b"
   ]
  },
  {
   "cell_type": "code",
   "execution_count": 378,
   "metadata": {},
   "outputs": [
    {
     "data": {
      "text/plain": [
       "(variable W([[ 1.0184761 ,  0.23103087,  0.5650746 ],\n",
       "             [ 1.2937803 ,  1.0782351 , -0.56423163]]), variable b([0., 0.]))"
      ]
     },
     "execution_count": 378,
     "metadata": {},
     "output_type": "execute_result"
    }
   ],
   "source": [
    "np.random.seed(3)\n",
    "fc.W, fc.b"
   ]
  },
  {
   "cell_type": "code",
   "execution_count": 379,
   "metadata": {
    "collapsed": true
   },
   "outputs": [],
   "source": [
    "x = np.array([[1, 2, 3]], dtype=np.float32)\n",
    "u = fc(x)"
   ]
  },
  {
   "cell_type": "code",
   "execution_count": 380,
   "metadata": {},
   "outputs": [
    {
     "data": {
      "text/plain": [
       "variable([[3.1757617, 1.7575557]])"
      ]
     },
     "execution_count": 380,
     "metadata": {},
     "output_type": "execute_result"
    }
   ],
   "source": [
    "u"
   ]
  },
  {
   "cell_type": "code",
   "execution_count": 381,
   "metadata": {},
   "outputs": [
    {
     "data": {
      "text/plain": [
       "variable([[3.1757617, 1.7575557]])"
      ]
     },
     "execution_count": 381,
     "metadata": {},
     "output_type": "execute_result"
    }
   ],
   "source": [
    "x = np.array([[1, 2, 3]], 'f')\n",
    "fc(x)"
   ]
  },
  {
   "cell_type": "code",
   "execution_count": 382,
   "metadata": {
    "collapsed": true
   },
   "outputs": [],
   "source": [
    "F = chainer.functions"
   ]
  },
  {
   "cell_type": "code",
   "execution_count": 383,
   "metadata": {},
   "outputs": [
    {
     "data": {
      "text/plain": [
       "variable([[3.1757617, 1.7575557]])"
      ]
     },
     "execution_count": 383,
     "metadata": {},
     "output_type": "execute_result"
    }
   ],
   "source": [
    "z = F.relu(u)\n",
    "z"
   ]
  },
  {
   "cell_type": "code",
   "execution_count": 384,
   "metadata": {},
   "outputs": [
    {
     "data": {
      "text/plain": [
       "variable([0., 0., 1., 3.])"
      ]
     },
     "execution_count": 384,
     "metadata": {},
     "output_type": "execute_result"
    }
   ],
   "source": [
    "F.relu(np.array([-1, 0, 1, 3], 'f'))"
   ]
  },
  {
   "cell_type": "markdown",
   "metadata": {},
   "source": [
    "実践問題"
   ]
  },
  {
   "cell_type": "code",
   "execution_count": 385,
   "metadata": {
    "collapsed": true
   },
   "outputs": [],
   "source": [
    "np.random.seed(3)"
   ]
  },
  {
   "cell_type": "code",
   "execution_count": 386,
   "metadata": {
    "collapsed": true
   },
   "outputs": [],
   "source": [
    "# Link\n",
    "x = np.array([[1, 2, 3]], 'f')\n",
    "\n",
    "fc1 = L.Linear(3, 2)\n",
    "fc2 = L.Linear(2, 1)\n",
    "u1 = fc1(x)\n",
    "z1 = F.relu(u1)\n",
    "y = fc2(z1)"
   ]
  },
  {
   "cell_type": "code",
   "execution_count": 387,
   "metadata": {},
   "outputs": [
    {
     "data": {
      "text/plain": [
       "(variable([[ 1.7038419, -2.010649 ]]),\n",
       " variable([[1.7038419, 0.       ]]),\n",
       " variable([[-0.09968679]]))"
      ]
     },
     "execution_count": 387,
     "metadata": {},
     "output_type": "execute_result"
    }
   ],
   "source": [
    "u1, z1, y"
   ]
  },
  {
   "cell_type": "code",
   "execution_count": 388,
   "metadata": {},
   "outputs": [
    {
     "data": {
      "text/plain": [
       "((1, 3), (1, 2), (1, 2), (1, 1))"
      ]
     },
     "execution_count": 388,
     "metadata": {},
     "output_type": "execute_result"
    }
   ],
   "source": [
    "x.shape, u1.shape, z1.shape, y.shape"
   ]
  },
  {
   "cell_type": "code",
   "execution_count": 389,
   "metadata": {
    "collapsed": true
   },
   "outputs": [],
   "source": [
    "# loss\n",
    "t = np.array([[3]], 'f')"
   ]
  },
  {
   "cell_type": "code",
   "execution_count": 390,
   "metadata": {
    "scrolled": true
   },
   "outputs": [
    {
     "data": {
      "text/plain": [
       "variable(3.0996869)"
      ]
     },
     "execution_count": 390,
     "metadata": {},
     "output_type": "execute_result"
    }
   ],
   "source": [
    "loss = F.mean_absolute_error(t, y)\n",
    "loss"
   ]
  },
  {
   "cell_type": "code",
   "execution_count": 391,
   "metadata": {},
   "outputs": [
    {
     "data": {
      "text/plain": [
       "(variable(9.608059), variable(3.0996869))"
      ]
     },
     "execution_count": 391,
     "metadata": {},
     "output_type": "execute_result"
    }
   ],
   "source": [
    "F.mean_squared_error(t, y), F.mean_absolute_error(t, y)"
   ]
  },
  {
   "cell_type": "markdown",
   "metadata": {},
   "source": [
    "## Classification example"
   ]
  },
  {
   "cell_type": "code",
   "execution_count": 392,
   "metadata": {
    "collapsed": true
   },
   "outputs": [],
   "source": [
    "import pandas as pd"
   ]
  },
  {
   "cell_type": "code",
   "execution_count": 393,
   "metadata": {
    "collapsed": true
   },
   "outputs": [],
   "source": [
    "df = pd.read_csv('../data/wine_class.csv')"
   ]
  },
  {
   "cell_type": "code",
   "execution_count": 394,
   "metadata": {},
   "outputs": [
    {
     "data": {
      "text/html": [
       "<div>\n",
       "<style>\n",
       "    .dataframe thead tr:only-child th {\n",
       "        text-align: right;\n",
       "    }\n",
       "\n",
       "    .dataframe thead th {\n",
       "        text-align: left;\n",
       "    }\n",
       "\n",
       "    .dataframe tbody tr th {\n",
       "        vertical-align: top;\n",
       "    }\n",
       "</style>\n",
       "<table border=\"1\" class=\"dataframe\">\n",
       "  <thead>\n",
       "    <tr style=\"text-align: right;\">\n",
       "      <th></th>\n",
       "      <th>Class</th>\n",
       "      <th>Alcohol</th>\n",
       "      <th>Ash</th>\n",
       "      <th>Alcalinity of ash</th>\n",
       "      <th>Magnesium</th>\n",
       "      <th>Total phenols</th>\n",
       "      <th>Flavanoids</th>\n",
       "      <th>Nonflavanoid phenols</th>\n",
       "      <th>Color intensity</th>\n",
       "      <th>Hue</th>\n",
       "      <th>Proline</th>\n",
       "    </tr>\n",
       "  </thead>\n",
       "  <tbody>\n",
       "    <tr>\n",
       "      <th>0</th>\n",
       "      <td>1</td>\n",
       "      <td>14.23</td>\n",
       "      <td>2.43</td>\n",
       "      <td>15.6</td>\n",
       "      <td>127</td>\n",
       "      <td>2.80</td>\n",
       "      <td>3.06</td>\n",
       "      <td>0.28</td>\n",
       "      <td>5.64</td>\n",
       "      <td>1.04</td>\n",
       "      <td>1065</td>\n",
       "    </tr>\n",
       "    <tr>\n",
       "      <th>1</th>\n",
       "      <td>1</td>\n",
       "      <td>13.20</td>\n",
       "      <td>2.14</td>\n",
       "      <td>11.2</td>\n",
       "      <td>100</td>\n",
       "      <td>2.65</td>\n",
       "      <td>2.76</td>\n",
       "      <td>0.26</td>\n",
       "      <td>4.38</td>\n",
       "      <td>1.05</td>\n",
       "      <td>1050</td>\n",
       "    </tr>\n",
       "    <tr>\n",
       "      <th>2</th>\n",
       "      <td>1</td>\n",
       "      <td>13.16</td>\n",
       "      <td>2.67</td>\n",
       "      <td>18.6</td>\n",
       "      <td>101</td>\n",
       "      <td>2.80</td>\n",
       "      <td>3.24</td>\n",
       "      <td>0.30</td>\n",
       "      <td>5.68</td>\n",
       "      <td>1.03</td>\n",
       "      <td>1185</td>\n",
       "    </tr>\n",
       "    <tr>\n",
       "      <th>3</th>\n",
       "      <td>1</td>\n",
       "      <td>14.37</td>\n",
       "      <td>2.50</td>\n",
       "      <td>16.8</td>\n",
       "      <td>113</td>\n",
       "      <td>3.85</td>\n",
       "      <td>3.49</td>\n",
       "      <td>0.24</td>\n",
       "      <td>7.80</td>\n",
       "      <td>0.86</td>\n",
       "      <td>1480</td>\n",
       "    </tr>\n",
       "    <tr>\n",
       "      <th>4</th>\n",
       "      <td>1</td>\n",
       "      <td>13.24</td>\n",
       "      <td>2.87</td>\n",
       "      <td>21.0</td>\n",
       "      <td>118</td>\n",
       "      <td>2.80</td>\n",
       "      <td>2.69</td>\n",
       "      <td>0.39</td>\n",
       "      <td>4.32</td>\n",
       "      <td>1.04</td>\n",
       "      <td>735</td>\n",
       "    </tr>\n",
       "  </tbody>\n",
       "</table>\n",
       "</div>"
      ],
      "text/plain": [
       "   Class  Alcohol   Ash  Alcalinity of ash  Magnesium  Total phenols  \\\n",
       "0      1    14.23  2.43               15.6        127           2.80   \n",
       "1      1    13.20  2.14               11.2        100           2.65   \n",
       "2      1    13.16  2.67               18.6        101           2.80   \n",
       "3      1    14.37  2.50               16.8        113           3.85   \n",
       "4      1    13.24  2.87               21.0        118           2.80   \n",
       "\n",
       "   Flavanoids  Nonflavanoid phenols  Color intensity   Hue  Proline  \n",
       "0        3.06                  0.28             5.64  1.04     1065  \n",
       "1        2.76                  0.26             4.38  1.05     1050  \n",
       "2        3.24                  0.30             5.68  1.03     1185  \n",
       "3        3.49                  0.24             7.80  0.86     1480  \n",
       "4        2.69                  0.39             4.32  1.04      735  "
      ]
     },
     "execution_count": 394,
     "metadata": {},
     "output_type": "execute_result"
    }
   ],
   "source": [
    "df.head()"
   ]
  },
  {
   "cell_type": "code",
   "execution_count": 395,
   "metadata": {
    "collapsed": true
   },
   "outputs": [],
   "source": [
    "t = df['Class']\n",
    "x = df.drop(['Class'], axis=1)"
   ]
  },
  {
   "cell_type": "code",
   "execution_count": 396,
   "metadata": {},
   "outputs": [
    {
     "data": {
      "text/plain": [
       "((178, 10), (178,))"
      ]
     },
     "execution_count": 396,
     "metadata": {},
     "output_type": "execute_result"
    }
   ],
   "source": [
    "x.shape, t.shape"
   ]
  },
  {
   "cell_type": "code",
   "execution_count": 397,
   "metadata": {},
   "outputs": [
    {
     "data": {
      "text/html": [
       "<div>\n",
       "<style>\n",
       "    .dataframe thead tr:only-child th {\n",
       "        text-align: right;\n",
       "    }\n",
       "\n",
       "    .dataframe thead th {\n",
       "        text-align: left;\n",
       "    }\n",
       "\n",
       "    .dataframe tbody tr th {\n",
       "        vertical-align: top;\n",
       "    }\n",
       "</style>\n",
       "<table border=\"1\" class=\"dataframe\">\n",
       "  <thead>\n",
       "    <tr style=\"text-align: right;\">\n",
       "      <th></th>\n",
       "      <th>Alcohol</th>\n",
       "      <th>Ash</th>\n",
       "      <th>Alcalinity of ash</th>\n",
       "      <th>Magnesium</th>\n",
       "      <th>Total phenols</th>\n",
       "      <th>Flavanoids</th>\n",
       "      <th>Nonflavanoid phenols</th>\n",
       "      <th>Color intensity</th>\n",
       "      <th>Hue</th>\n",
       "      <th>Proline</th>\n",
       "    </tr>\n",
       "  </thead>\n",
       "  <tbody>\n",
       "    <tr>\n",
       "      <th>0</th>\n",
       "      <td>14.23</td>\n",
       "      <td>2.43</td>\n",
       "      <td>15.6</td>\n",
       "      <td>127</td>\n",
       "      <td>2.80</td>\n",
       "      <td>3.06</td>\n",
       "      <td>0.28</td>\n",
       "      <td>5.64</td>\n",
       "      <td>1.04</td>\n",
       "      <td>1065</td>\n",
       "    </tr>\n",
       "    <tr>\n",
       "      <th>1</th>\n",
       "      <td>13.20</td>\n",
       "      <td>2.14</td>\n",
       "      <td>11.2</td>\n",
       "      <td>100</td>\n",
       "      <td>2.65</td>\n",
       "      <td>2.76</td>\n",
       "      <td>0.26</td>\n",
       "      <td>4.38</td>\n",
       "      <td>1.05</td>\n",
       "      <td>1050</td>\n",
       "    </tr>\n",
       "    <tr>\n",
       "      <th>2</th>\n",
       "      <td>13.16</td>\n",
       "      <td>2.67</td>\n",
       "      <td>18.6</td>\n",
       "      <td>101</td>\n",
       "      <td>2.80</td>\n",
       "      <td>3.24</td>\n",
       "      <td>0.30</td>\n",
       "      <td>5.68</td>\n",
       "      <td>1.03</td>\n",
       "      <td>1185</td>\n",
       "    </tr>\n",
       "    <tr>\n",
       "      <th>3</th>\n",
       "      <td>14.37</td>\n",
       "      <td>2.50</td>\n",
       "      <td>16.8</td>\n",
       "      <td>113</td>\n",
       "      <td>3.85</td>\n",
       "      <td>3.49</td>\n",
       "      <td>0.24</td>\n",
       "      <td>7.80</td>\n",
       "      <td>0.86</td>\n",
       "      <td>1480</td>\n",
       "    </tr>\n",
       "    <tr>\n",
       "      <th>4</th>\n",
       "      <td>13.24</td>\n",
       "      <td>2.87</td>\n",
       "      <td>21.0</td>\n",
       "      <td>118</td>\n",
       "      <td>2.80</td>\n",
       "      <td>2.69</td>\n",
       "      <td>0.39</td>\n",
       "      <td>4.32</td>\n",
       "      <td>1.04</td>\n",
       "      <td>735</td>\n",
       "    </tr>\n",
       "  </tbody>\n",
       "</table>\n",
       "</div>"
      ],
      "text/plain": [
       "   Alcohol   Ash  Alcalinity of ash  Magnesium  Total phenols  Flavanoids  \\\n",
       "0    14.23  2.43               15.6        127           2.80        3.06   \n",
       "1    13.20  2.14               11.2        100           2.65        2.76   \n",
       "2    13.16  2.67               18.6        101           2.80        3.24   \n",
       "3    14.37  2.50               16.8        113           3.85        3.49   \n",
       "4    13.24  2.87               21.0        118           2.80        2.69   \n",
       "\n",
       "   Nonflavanoid phenols  Color intensity   Hue  Proline  \n",
       "0                  0.28             5.64  1.04     1065  \n",
       "1                  0.26             4.38  1.05     1050  \n",
       "2                  0.30             5.68  1.03     1185  \n",
       "3                  0.24             7.80  0.86     1480  \n",
       "4                  0.39             4.32  1.04      735  "
      ]
     },
     "execution_count": 397,
     "metadata": {},
     "output_type": "execute_result"
    }
   ],
   "source": [
    "x.head()"
   ]
  },
  {
   "cell_type": "code",
   "execution_count": 398,
   "metadata": {},
   "outputs": [
    {
     "data": {
      "text/plain": [
       "(178,)"
      ]
     },
     "execution_count": 398,
     "metadata": {},
     "output_type": "execute_result"
    }
   ],
   "source": [
    "t.shape"
   ]
  },
  {
   "cell_type": "code",
   "execution_count": 399,
   "metadata": {},
   "outputs": [
    {
     "data": {
      "text/plain": [
       "(pandas.core.frame.DataFrame, pandas.core.series.Series)"
      ]
     },
     "execution_count": 399,
     "metadata": {},
     "output_type": "execute_result"
    }
   ],
   "source": [
    "type(x), type(t)"
   ]
  },
  {
   "cell_type": "code",
   "execution_count": 400,
   "metadata": {},
   "outputs": [
    {
     "data": {
      "text/plain": [
       "(numpy.ndarray, numpy.ndarray)"
      ]
     },
     "execution_count": 400,
     "metadata": {},
     "output_type": "execute_result"
    }
   ],
   "source": [
    "type(x.values), type(t.values)"
   ]
  },
  {
   "cell_type": "code",
   "execution_count": 401,
   "metadata": {},
   "outputs": [
    {
     "data": {
      "text/plain": [
       "(1, 3)"
      ]
     },
     "execution_count": 401,
     "metadata": {},
     "output_type": "execute_result"
    }
   ],
   "source": [
    "t.min(), t.max()"
   ]
  },
  {
   "cell_type": "code",
   "execution_count": 402,
   "metadata": {
    "collapsed": true
   },
   "outputs": [],
   "source": [
    "t = t.values - 1\n",
    "x = x.values"
   ]
  },
  {
   "cell_type": "code",
   "execution_count": 403,
   "metadata": {},
   "outputs": [
    {
     "data": {
      "text/plain": [
       "(0, 2)"
      ]
     },
     "execution_count": 403,
     "metadata": {},
     "output_type": "execute_result"
    }
   ],
   "source": [
    "t.min(), t.max()"
   ]
  },
  {
   "cell_type": "code",
   "execution_count": 404,
   "metadata": {},
   "outputs": [
    {
     "data": {
      "text/plain": [
       "(dtype('float64'), dtype('int64'))"
      ]
     },
     "execution_count": 404,
     "metadata": {},
     "output_type": "execute_result"
    }
   ],
   "source": [
    "x.dtype, t.dtype"
   ]
  },
  {
   "cell_type": "code",
   "execution_count": 405,
   "metadata": {},
   "outputs": [
    {
     "data": {
      "text/plain": [
       "((178, 10), (178,))"
      ]
     },
     "execution_count": 405,
     "metadata": {},
     "output_type": "execute_result"
    }
   ],
   "source": [
    "x.shape, t.shape"
   ]
  },
  {
   "cell_type": "code",
   "execution_count": 406,
   "metadata": {
    "collapsed": true
   },
   "outputs": [],
   "source": [
    "x = x.astype('float32')\n",
    "t = t.astype('int32')"
   ]
  },
  {
   "cell_type": "code",
   "execution_count": 407,
   "metadata": {},
   "outputs": [
    {
     "data": {
      "text/plain": [
       "(dtype('float32'), dtype('int32'))"
      ]
     },
     "execution_count": 407,
     "metadata": {},
     "output_type": "execute_result"
    }
   ],
   "source": [
    "x.dtype, t.dtype"
   ]
  },
  {
   "cell_type": "code",
   "execution_count": 408,
   "metadata": {
    "collapsed": true
   },
   "outputs": [],
   "source": [
    "# データセットの形式にする\n",
    "dataset = list(zip(x, t))"
   ]
  },
  {
   "cell_type": "code",
   "execution_count": 409,
   "metadata": {},
   "outputs": [
    {
     "data": {
      "text/plain": [
       "(list, tuple, numpy.ndarray, numpy.int32)"
      ]
     },
     "execution_count": 409,
     "metadata": {},
     "output_type": "execute_result"
    }
   ],
   "source": [
    "type(dataset), type(dataset[0]), type(dataset[0][0]), type(dataset[0][1])"
   ]
  },
  {
   "cell_type": "code",
   "execution_count": 410,
   "metadata": {
    "collapsed": true
   },
   "outputs": [],
   "source": [
    "# Split Dataset\n",
    "n_train = int(len(dataset)*0.7)\n",
    "\n",
    "train, test = chainer.datasets.split_dataset_random(dataset,\n",
    "                                                    n_train,\n",
    "                                                   seed=0)"
   ]
  },
  {
   "cell_type": "code",
   "execution_count": 411,
   "metadata": {},
   "outputs": [
    {
     "data": {
      "text/plain": [
       "(124, 54, tuple, numpy.ndarray)"
      ]
     },
     "execution_count": 411,
     "metadata": {},
     "output_type": "execute_result"
    }
   ],
   "source": [
    "len(train), len(test), type(train[0]), type(train[0][0])"
   ]
  },
  {
   "cell_type": "code",
   "execution_count": 412,
   "metadata": {},
   "outputs": [
    {
     "data": {
      "text/plain": [
       "10"
      ]
     },
     "execution_count": 412,
     "metadata": {},
     "output_type": "execute_result"
    }
   ],
   "source": [
    "train[0][0].shape[0]"
   ]
  },
  {
   "cell_type": "code",
   "execution_count": 413,
   "metadata": {
    "collapsed": true
   },
   "outputs": [],
   "source": [
    "# define model\n",
    "input_shape = train[0][0].shape[0]\n",
    "\n",
    "class NN(chainer.Chain):\n",
    "    def __init__(self, n_mid_units=5, n_out=3):\n",
    "        super().__init__()\n",
    "        with self.init_scope():\n",
    "            self.fc1 = L.Linear(input_shape, n_mid_units)\n",
    "            self.fc2 = L.Linear(n_mid_units, n_out)\n",
    "            \n",
    "    # forward\n",
    "    def __call__(self, x):\n",
    "        h = self.fc1(x)\n",
    "        h = F.relu(h)\n",
    "        h = self.fc2(h)\n",
    "        return h"
   ]
  },
  {
   "cell_type": "code",
   "execution_count": 414,
   "metadata": {},
   "outputs": [
    {
     "data": {
      "text/plain": [
       "<chainer.optimizers.sgd.SGD at 0x7fc2739bd7b8>"
      ]
     },
     "execution_count": 414,
     "metadata": {},
     "output_type": "execute_result"
    }
   ],
   "source": [
    "np.random.seed(1)\n",
    "\n",
    "# Classification model wrapper\n",
    "nn = NN(10, 3)\n",
    "model = L.Classifier(nn)\n",
    "\n",
    "# Define Optimazer\n",
    "optimizer = chainer.optimizers.SGD()\n",
    "optimizer.setup(model)"
   ]
  },
  {
   "cell_type": "code",
   "execution_count": 415,
   "metadata": {
    "collapsed": true
   },
   "outputs": [],
   "source": [
    "# Select batchsize\n",
    "batchsize = 10\n",
    "train_iter = chainer.iterators.SerialIterator(train, batchsize)\n",
    "test_iter  = chainer.iterators.SerialIterator(test,  batchsize, repeat=False, shuffle=False)"
   ]
  },
  {
   "cell_type": "code",
   "execution_count": 416,
   "metadata": {},
   "outputs": [
    {
     "data": {
      "text/plain": [
       "10"
      ]
     },
     "execution_count": 416,
     "metadata": {},
     "output_type": "execute_result"
    }
   ],
   "source": [
    "len(train_iter.next())"
   ]
  },
  {
   "cell_type": "code",
   "execution_count": 417,
   "metadata": {
    "collapsed": true
   },
   "outputs": [],
   "source": [
    "# Configure device\n",
    "updater = chainer.training.StandardUpdater(train_iter, \n",
    "                                           optimizer, \n",
    "                                           device=-1)"
   ]
  },
  {
   "cell_type": "code",
   "execution_count": 418,
   "metadata": {
    "collapsed": true
   },
   "outputs": [],
   "source": [
    "from chainer.training import extensions"
   ]
  },
  {
   "cell_type": "code",
   "execution_count": 419,
   "metadata": {
    "collapsed": true
   },
   "outputs": [],
   "source": [
    "# Select epoch number\n",
    "epoch = 50\n",
    "\n",
    "# trainer\n",
    "trainer = chainer.training.Trainer(updater,\n",
    "                                  (epochs, 'epoch'),\n",
    "                                  out='result/wine')\n",
    "\n",
    "# Evaluate test data\n",
    "trainer.extend(extensions.Evaluator(test_iter, \n",
    "                                    model, \n",
    "                                    device=-1))\n",
    "\n",
    "# Learning log\n",
    "trainer.extend(extensions.LogReport(trigger=(1, 'epoch')))\n",
    "\n",
    "# Print learnign log\n",
    "trainer.extend(extensions.PrintReport(['epoch', \n",
    "                                       'main/accuracy', \n",
    "                                       'validation/main/accuracy', \n",
    "                                       'main/loss', \n",
    "                                       'validation/main/loss', \n",
    "                                       'elapsed_time']),\n",
    "               trigger=(1, 'epoch'))"
   ]
  },
  {
   "cell_type": "code",
   "execution_count": 420,
   "metadata": {},
   "outputs": [
    {
     "name": "stdout",
     "output_type": "stream",
     "text": [
      "epoch       main/accuracy  validation/main/accuracy  main/loss   validation/main/loss  elapsed_time\n",
      "\u001b[J1           0.416667       0.366667                  415.717     1.09772               0.0225879     \n",
      "\u001b[J2           0.408333       0.366667                  1.09592     1.09733               0.0468021     \n",
      "\u001b[J3           0.423077       0.366667                  1.09386     1.09694               0.0731914     \n",
      "\u001b[J4           0.433333       0.366667                  1.09209     1.09662               0.0960456     \n",
      "\u001b[J5           0.408333       0.366667                  1.0925      1.09644               0.120135      \n",
      "\u001b[J6           0.415385       0.366667                  1.09136     1.09626               0.147537      \n",
      "\u001b[J7           0.425          0.366667                  1.08817     1.09613               0.171185      \n",
      "\u001b[J8           0.438462       0.366667                  1.08659     1.09603               0.195746      \n",
      "\u001b[J9           0.4            0.366667                  1.08981     1.09601               0.221309      \n",
      "\u001b[J10          0.416667       0.366667                  1.08712     1.09601               0.247356      \n",
      "\u001b[J11          0.415385       0.366667                  1.08683     1.09603               0.275491      \n",
      "\u001b[J12          0.416667       0.366667                  1.08484     1.09609               0.301049      \n",
      "\u001b[J13          0.415385       0.366667                  1.08477     1.09618               0.32883       \n",
      "\u001b[J14          0.433333       0.366667                  1.0844      1.09624               0.354206      \n",
      "\u001b[J15          0.416667       0.366667                  1.08303     1.09636               0.378234      \n",
      "\u001b[J16          0.423077       0.366667                  1.08221     1.09651               0.406033      \n",
      "\u001b[J17          0.416667       0.366667                  1.08395     1.09662               0.431438      \n",
      "\u001b[J18          0.423077       0.366667                  1.08125     1.0968                0.458786      \n",
      "\u001b[J19          0.408333       0.366667                  1.08348     1.09694               0.484722      \n",
      "\u001b[J20          0.425          0.366667                  1.08088     1.09711               0.509762      \n",
      "\u001b[J21          0.407692       0.366667                  1.0814      1.09732               0.534815      \n",
      "\u001b[J22          0.441667       0.366667                  1.07858     1.09751               0.55859       \n",
      "\u001b[J23          0.423077       0.366667                  1.07823     1.09776               0.583312      \n",
      "\u001b[J24          0.4            0.366667                  1.08733     1.09781               0.607219      \n",
      "\u001b[J25          0.425          0.366667                  1.07798     1.09804               0.630717      \n",
      "\u001b[J26          0.423077       0.366667                  1.07847     1.09827               0.656116      \n",
      "\u001b[J27          0.408333       0.366667                  1.08301     1.09839               0.680466      \n",
      "\u001b[J28          0.415385       0.366667                  1.07956     1.0986                0.705297      \n",
      "\u001b[J29          0.425          0.366667                  1.07686     1.09883               0.729774      \n",
      "\u001b[J30          0.425          0.366667                  1.07958     1.099                 0.753708      \n",
      "\u001b[J31          0.415385       0.366667                  1.07901     1.0992                0.779573      \n",
      "\u001b[J32          0.433333       0.366667                  1.07621     1.09943               0.804193      \n",
      "\u001b[J33          0.392308       0.366667                  1.08459     1.09951               0.829685      \n",
      "\u001b[J34          0.425          0.366667                  1.07911     1.09967               0.853857      \n",
      "\u001b[J35          0.433333       0.366667                  1.07414     1.09993               0.877688      \n",
      "\u001b[J36          0.430769       0.366667                  1.0771      1.10014               0.904833      \n",
      "\u001b[J37          0.4            0.366667                  1.08053     1.10027               0.929         \n",
      "\u001b[J38          0.423077       0.366667                  1.08285     1.10031               0.954523      \n",
      "\u001b[J39          0.433333       0.366667                  1.0686      1.1007                0.978296      \n",
      "\u001b[J40          0.408333       0.366667                  1.0821      1.10075               1.00292       \n",
      "\u001b[J41          0.415385       0.366667                  1.07968     1.10087               1.02897       \n",
      "\u001b[J42          0.416667       0.366667                  1.08037     1.10096               1.05292       \n",
      "\u001b[J43          0.423077       0.366667                  1.07631     1.10115               1.07881       \n",
      "\u001b[J44          0.425          0.366667                  1.07491     1.10136               1.10328       \n",
      "\u001b[J45          0.416667       0.366667                  1.07836     1.10149               1.12969       \n",
      "\u001b[J46          0.423077       0.366667                  1.07774     1.10163               1.15814       \n",
      "\u001b[J47          0.408333       0.366667                  1.0801      1.10171               1.18275       \n",
      "\u001b[J48          0.415385       0.366667                  1.07768     1.10185               1.21039       \n",
      "\u001b[J49          0.433333       0.366667                  1.07468     1.10204               1.23443       \n",
      "\u001b[J50          0.416667       0.366667                  1.07826     1.10215               1.25978       \n"
     ]
    }
   ],
   "source": [
    "trainer.run()"
   ]
  },
  {
   "cell_type": "code",
   "execution_count": 421,
   "metadata": {},
   "outputs": [
    {
     "name": "stdout",
     "output_type": "stream",
     "text": [
      "/handson/myanalysis\r\n"
     ]
    }
   ],
   "source": [
    "!pwd"
   ]
  },
  {
   "cell_type": "markdown",
   "metadata": {},
   "source": [
    "結果の可視化"
   ]
  },
  {
   "cell_type": "code",
   "execution_count": 422,
   "metadata": {
    "collapsed": true
   },
   "outputs": [],
   "source": [
    "import json\n",
    "%matplotlib inline"
   ]
  },
  {
   "cell_type": "code",
   "execution_count": 423,
   "metadata": {
    "collapsed": true
   },
   "outputs": [],
   "source": [
    "with open('../result/wine/log') as f:\n",
    "    result = pd.DataFrame(json.load(f))"
   ]
  },
  {
   "cell_type": "code",
   "execution_count": 424,
   "metadata": {},
   "outputs": [
    {
     "data": {
      "text/html": [
       "<div>\n",
       "<style>\n",
       "    .dataframe thead tr:only-child th {\n",
       "        text-align: right;\n",
       "    }\n",
       "\n",
       "    .dataframe thead th {\n",
       "        text-align: left;\n",
       "    }\n",
       "\n",
       "    .dataframe tbody tr th {\n",
       "        vertical-align: top;\n",
       "    }\n",
       "</style>\n",
       "<table border=\"1\" class=\"dataframe\">\n",
       "  <thead>\n",
       "    <tr style=\"text-align: right;\">\n",
       "      <th></th>\n",
       "      <th>elapsed_time</th>\n",
       "      <th>epoch</th>\n",
       "      <th>iteration</th>\n",
       "      <th>main/accuracy</th>\n",
       "      <th>main/loss</th>\n",
       "      <th>validation/main/accuracy</th>\n",
       "      <th>validation/main/loss</th>\n",
       "    </tr>\n",
       "  </thead>\n",
       "  <tbody>\n",
       "    <tr>\n",
       "      <th>0</th>\n",
       "      <td>0.032401</td>\n",
       "      <td>1</td>\n",
       "      <td>13</td>\n",
       "      <td>0.415385</td>\n",
       "      <td>1.103918</td>\n",
       "      <td>0.341667</td>\n",
       "      <td>1.214419</td>\n",
       "    </tr>\n",
       "    <tr>\n",
       "      <th>1</th>\n",
       "      <td>0.063564</td>\n",
       "      <td>2</td>\n",
       "      <td>25</td>\n",
       "      <td>0.575000</td>\n",
       "      <td>1.003100</td>\n",
       "      <td>0.475000</td>\n",
       "      <td>0.993539</td>\n",
       "    </tr>\n",
       "    <tr>\n",
       "      <th>2</th>\n",
       "      <td>0.096493</td>\n",
       "      <td>3</td>\n",
       "      <td>38</td>\n",
       "      <td>0.553846</td>\n",
       "      <td>0.942188</td>\n",
       "      <td>0.608333</td>\n",
       "      <td>0.922005</td>\n",
       "    </tr>\n",
       "    <tr>\n",
       "      <th>3</th>\n",
       "      <td>0.126369</td>\n",
       "      <td>4</td>\n",
       "      <td>50</td>\n",
       "      <td>0.641667</td>\n",
       "      <td>0.848846</td>\n",
       "      <td>0.625000</td>\n",
       "      <td>0.856451</td>\n",
       "    </tr>\n",
       "    <tr>\n",
       "      <th>4</th>\n",
       "      <td>0.159143</td>\n",
       "      <td>5</td>\n",
       "      <td>62</td>\n",
       "      <td>0.650000</td>\n",
       "      <td>0.812970</td>\n",
       "      <td>0.625000</td>\n",
       "      <td>0.805480</td>\n",
       "    </tr>\n",
       "    <tr>\n",
       "      <th>5</th>\n",
       "      <td>0.190904</td>\n",
       "      <td>6</td>\n",
       "      <td>75</td>\n",
       "      <td>0.684615</td>\n",
       "      <td>0.748720</td>\n",
       "      <td>0.608333</td>\n",
       "      <td>0.771339</td>\n",
       "    </tr>\n",
       "    <tr>\n",
       "      <th>6</th>\n",
       "      <td>0.220960</td>\n",
       "      <td>7</td>\n",
       "      <td>87</td>\n",
       "      <td>0.675000</td>\n",
       "      <td>0.719701</td>\n",
       "      <td>0.625000</td>\n",
       "      <td>0.728936</td>\n",
       "    </tr>\n",
       "    <tr>\n",
       "      <th>7</th>\n",
       "      <td>0.255656</td>\n",
       "      <td>8</td>\n",
       "      <td>100</td>\n",
       "      <td>0.753846</td>\n",
       "      <td>0.704584</td>\n",
       "      <td>0.625000</td>\n",
       "      <td>0.702140</td>\n",
       "    </tr>\n",
       "    <tr>\n",
       "      <th>8</th>\n",
       "      <td>0.288155</td>\n",
       "      <td>9</td>\n",
       "      <td>112</td>\n",
       "      <td>0.716667</td>\n",
       "      <td>0.688909</td>\n",
       "      <td>0.641667</td>\n",
       "      <td>0.673809</td>\n",
       "    </tr>\n",
       "    <tr>\n",
       "      <th>9</th>\n",
       "      <td>0.320836</td>\n",
       "      <td>10</td>\n",
       "      <td>124</td>\n",
       "      <td>0.800000</td>\n",
       "      <td>0.594708</td>\n",
       "      <td>0.683333</td>\n",
       "      <td>0.656860</td>\n",
       "    </tr>\n",
       "    <tr>\n",
       "      <th>10</th>\n",
       "      <td>0.352520</td>\n",
       "      <td>11</td>\n",
       "      <td>137</td>\n",
       "      <td>0.784615</td>\n",
       "      <td>0.588698</td>\n",
       "      <td>0.700000</td>\n",
       "      <td>0.634453</td>\n",
       "    </tr>\n",
       "    <tr>\n",
       "      <th>11</th>\n",
       "      <td>0.381661</td>\n",
       "      <td>12</td>\n",
       "      <td>149</td>\n",
       "      <td>0.758333</td>\n",
       "      <td>0.626121</td>\n",
       "      <td>0.750000</td>\n",
       "      <td>0.602156</td>\n",
       "    </tr>\n",
       "    <tr>\n",
       "      <th>12</th>\n",
       "      <td>0.413213</td>\n",
       "      <td>13</td>\n",
       "      <td>162</td>\n",
       "      <td>0.800000</td>\n",
       "      <td>0.560623</td>\n",
       "      <td>0.791667</td>\n",
       "      <td>0.590054</td>\n",
       "    </tr>\n",
       "    <tr>\n",
       "      <th>13</th>\n",
       "      <td>0.442442</td>\n",
       "      <td>14</td>\n",
       "      <td>174</td>\n",
       "      <td>0.866667</td>\n",
       "      <td>0.480577</td>\n",
       "      <td>0.808333</td>\n",
       "      <td>0.576962</td>\n",
       "    </tr>\n",
       "    <tr>\n",
       "      <th>14</th>\n",
       "      <td>0.473163</td>\n",
       "      <td>15</td>\n",
       "      <td>186</td>\n",
       "      <td>0.858333</td>\n",
       "      <td>0.556047</td>\n",
       "      <td>0.808333</td>\n",
       "      <td>0.550731</td>\n",
       "    </tr>\n",
       "    <tr>\n",
       "      <th>15</th>\n",
       "      <td>0.504492</td>\n",
       "      <td>16</td>\n",
       "      <td>199</td>\n",
       "      <td>0.869231</td>\n",
       "      <td>0.506974</td>\n",
       "      <td>0.808333</td>\n",
       "      <td>0.541605</td>\n",
       "    </tr>\n",
       "    <tr>\n",
       "      <th>16</th>\n",
       "      <td>0.534730</td>\n",
       "      <td>17</td>\n",
       "      <td>211</td>\n",
       "      <td>0.866667</td>\n",
       "      <td>0.478951</td>\n",
       "      <td>0.808333</td>\n",
       "      <td>0.521063</td>\n",
       "    </tr>\n",
       "    <tr>\n",
       "      <th>17</th>\n",
       "      <td>0.566260</td>\n",
       "      <td>18</td>\n",
       "      <td>224</td>\n",
       "      <td>0.861538</td>\n",
       "      <td>0.471306</td>\n",
       "      <td>0.825000</td>\n",
       "      <td>0.507851</td>\n",
       "    </tr>\n",
       "    <tr>\n",
       "      <th>18</th>\n",
       "      <td>0.595704</td>\n",
       "      <td>19</td>\n",
       "      <td>236</td>\n",
       "      <td>0.900000</td>\n",
       "      <td>0.441507</td>\n",
       "      <td>0.841667</td>\n",
       "      <td>0.490725</td>\n",
       "    </tr>\n",
       "    <tr>\n",
       "      <th>19</th>\n",
       "      <td>0.625229</td>\n",
       "      <td>20</td>\n",
       "      <td>248</td>\n",
       "      <td>0.866667</td>\n",
       "      <td>0.471907</td>\n",
       "      <td>0.841667</td>\n",
       "      <td>0.481671</td>\n",
       "    </tr>\n",
       "    <tr>\n",
       "      <th>20</th>\n",
       "      <td>0.656747</td>\n",
       "      <td>21</td>\n",
       "      <td>261</td>\n",
       "      <td>0.876923</td>\n",
       "      <td>0.452109</td>\n",
       "      <td>0.916667</td>\n",
       "      <td>0.463697</td>\n",
       "    </tr>\n",
       "    <tr>\n",
       "      <th>21</th>\n",
       "      <td>0.687249</td>\n",
       "      <td>22</td>\n",
       "      <td>273</td>\n",
       "      <td>0.883333</td>\n",
       "      <td>0.453664</td>\n",
       "      <td>0.900000</td>\n",
       "      <td>0.445717</td>\n",
       "    </tr>\n",
       "    <tr>\n",
       "      <th>22</th>\n",
       "      <td>0.718971</td>\n",
       "      <td>23</td>\n",
       "      <td>286</td>\n",
       "      <td>0.892308</td>\n",
       "      <td>0.380661</td>\n",
       "      <td>0.900000</td>\n",
       "      <td>0.433952</td>\n",
       "    </tr>\n",
       "    <tr>\n",
       "      <th>23</th>\n",
       "      <td>0.748346</td>\n",
       "      <td>24</td>\n",
       "      <td>298</td>\n",
       "      <td>0.875000</td>\n",
       "      <td>0.410088</td>\n",
       "      <td>0.916667</td>\n",
       "      <td>0.419765</td>\n",
       "    </tr>\n",
       "    <tr>\n",
       "      <th>24</th>\n",
       "      <td>0.777901</td>\n",
       "      <td>25</td>\n",
       "      <td>310</td>\n",
       "      <td>0.900000</td>\n",
       "      <td>0.374395</td>\n",
       "      <td>0.900000</td>\n",
       "      <td>0.397687</td>\n",
       "    </tr>\n",
       "    <tr>\n",
       "      <th>25</th>\n",
       "      <td>0.810841</td>\n",
       "      <td>26</td>\n",
       "      <td>323</td>\n",
       "      <td>0.915385</td>\n",
       "      <td>0.352433</td>\n",
       "      <td>0.900000</td>\n",
       "      <td>0.387938</td>\n",
       "    </tr>\n",
       "    <tr>\n",
       "      <th>26</th>\n",
       "      <td>0.841276</td>\n",
       "      <td>27</td>\n",
       "      <td>335</td>\n",
       "      <td>0.916667</td>\n",
       "      <td>0.364845</td>\n",
       "      <td>0.933333</td>\n",
       "      <td>0.367715</td>\n",
       "    </tr>\n",
       "    <tr>\n",
       "      <th>27</th>\n",
       "      <td>0.875592</td>\n",
       "      <td>28</td>\n",
       "      <td>348</td>\n",
       "      <td>0.930769</td>\n",
       "      <td>0.306647</td>\n",
       "      <td>0.916667</td>\n",
       "      <td>0.355292</td>\n",
       "    </tr>\n",
       "    <tr>\n",
       "      <th>28</th>\n",
       "      <td>0.909160</td>\n",
       "      <td>29</td>\n",
       "      <td>360</td>\n",
       "      <td>0.933333</td>\n",
       "      <td>0.325068</td>\n",
       "      <td>0.950000</td>\n",
       "      <td>0.348403</td>\n",
       "    </tr>\n",
       "    <tr>\n",
       "      <th>29</th>\n",
       "      <td>0.940931</td>\n",
       "      <td>30</td>\n",
       "      <td>372</td>\n",
       "      <td>0.875000</td>\n",
       "      <td>0.388985</td>\n",
       "      <td>0.966667</td>\n",
       "      <td>0.329933</td>\n",
       "    </tr>\n",
       "    <tr>\n",
       "      <th>30</th>\n",
       "      <td>0.973630</td>\n",
       "      <td>31</td>\n",
       "      <td>385</td>\n",
       "      <td>0.938462</td>\n",
       "      <td>0.311822</td>\n",
       "      <td>0.966667</td>\n",
       "      <td>0.315558</td>\n",
       "    </tr>\n",
       "    <tr>\n",
       "      <th>31</th>\n",
       "      <td>1.006063</td>\n",
       "      <td>32</td>\n",
       "      <td>397</td>\n",
       "      <td>0.933333</td>\n",
       "      <td>0.316743</td>\n",
       "      <td>0.950000</td>\n",
       "      <td>0.310268</td>\n",
       "    </tr>\n",
       "    <tr>\n",
       "      <th>32</th>\n",
       "      <td>1.040961</td>\n",
       "      <td>33</td>\n",
       "      <td>410</td>\n",
       "      <td>0.961538</td>\n",
       "      <td>0.290442</td>\n",
       "      <td>0.966667</td>\n",
       "      <td>0.294099</td>\n",
       "    </tr>\n",
       "    <tr>\n",
       "      <th>33</th>\n",
       "      <td>1.073462</td>\n",
       "      <td>34</td>\n",
       "      <td>422</td>\n",
       "      <td>0.925000</td>\n",
       "      <td>0.273505</td>\n",
       "      <td>0.950000</td>\n",
       "      <td>0.283344</td>\n",
       "    </tr>\n",
       "    <tr>\n",
       "      <th>34</th>\n",
       "      <td>1.105406</td>\n",
       "      <td>35</td>\n",
       "      <td>434</td>\n",
       "      <td>0.950000</td>\n",
       "      <td>0.259710</td>\n",
       "      <td>0.966667</td>\n",
       "      <td>0.270989</td>\n",
       "    </tr>\n",
       "    <tr>\n",
       "      <th>35</th>\n",
       "      <td>1.140920</td>\n",
       "      <td>36</td>\n",
       "      <td>447</td>\n",
       "      <td>0.915385</td>\n",
       "      <td>0.283717</td>\n",
       "      <td>0.950000</td>\n",
       "      <td>0.258128</td>\n",
       "    </tr>\n",
       "    <tr>\n",
       "      <th>36</th>\n",
       "      <td>1.173471</td>\n",
       "      <td>37</td>\n",
       "      <td>459</td>\n",
       "      <td>0.908333</td>\n",
       "      <td>0.324117</td>\n",
       "      <td>0.966667</td>\n",
       "      <td>0.250026</td>\n",
       "    </tr>\n",
       "    <tr>\n",
       "      <th>37</th>\n",
       "      <td>1.207409</td>\n",
       "      <td>38</td>\n",
       "      <td>472</td>\n",
       "      <td>0.938462</td>\n",
       "      <td>0.257327</td>\n",
       "      <td>0.966667</td>\n",
       "      <td>0.239251</td>\n",
       "    </tr>\n",
       "    <tr>\n",
       "      <th>38</th>\n",
       "      <td>1.239077</td>\n",
       "      <td>39</td>\n",
       "      <td>484</td>\n",
       "      <td>0.950000</td>\n",
       "      <td>0.234977</td>\n",
       "      <td>0.983333</td>\n",
       "      <td>0.230012</td>\n",
       "    </tr>\n",
       "    <tr>\n",
       "      <th>39</th>\n",
       "      <td>1.271573</td>\n",
       "      <td>40</td>\n",
       "      <td>496</td>\n",
       "      <td>0.958333</td>\n",
       "      <td>0.194902</td>\n",
       "      <td>0.966667</td>\n",
       "      <td>0.226905</td>\n",
       "    </tr>\n",
       "    <tr>\n",
       "      <th>40</th>\n",
       "      <td>1.304452</td>\n",
       "      <td>41</td>\n",
       "      <td>509</td>\n",
       "      <td>0.976923</td>\n",
       "      <td>0.196919</td>\n",
       "      <td>0.966667</td>\n",
       "      <td>0.222974</td>\n",
       "    </tr>\n",
       "    <tr>\n",
       "      <th>41</th>\n",
       "      <td>1.338003</td>\n",
       "      <td>42</td>\n",
       "      <td>521</td>\n",
       "      <td>0.908333</td>\n",
       "      <td>0.278829</td>\n",
       "      <td>0.983333</td>\n",
       "      <td>0.208401</td>\n",
       "    </tr>\n",
       "    <tr>\n",
       "      <th>42</th>\n",
       "      <td>1.372719</td>\n",
       "      <td>43</td>\n",
       "      <td>534</td>\n",
       "      <td>0.938462</td>\n",
       "      <td>0.229717</td>\n",
       "      <td>0.966667</td>\n",
       "      <td>0.207539</td>\n",
       "    </tr>\n",
       "    <tr>\n",
       "      <th>43</th>\n",
       "      <td>1.408430</td>\n",
       "      <td>44</td>\n",
       "      <td>546</td>\n",
       "      <td>0.933333</td>\n",
       "      <td>0.236867</td>\n",
       "      <td>0.966667</td>\n",
       "      <td>0.199324</td>\n",
       "    </tr>\n",
       "    <tr>\n",
       "      <th>44</th>\n",
       "      <td>1.440958</td>\n",
       "      <td>45</td>\n",
       "      <td>558</td>\n",
       "      <td>0.933333</td>\n",
       "      <td>0.206753</td>\n",
       "      <td>0.966667</td>\n",
       "      <td>0.191793</td>\n",
       "    </tr>\n",
       "    <tr>\n",
       "      <th>45</th>\n",
       "      <td>1.474345</td>\n",
       "      <td>46</td>\n",
       "      <td>571</td>\n",
       "      <td>0.915385</td>\n",
       "      <td>0.281936</td>\n",
       "      <td>0.966667</td>\n",
       "      <td>0.190416</td>\n",
       "    </tr>\n",
       "    <tr>\n",
       "      <th>46</th>\n",
       "      <td>1.507717</td>\n",
       "      <td>47</td>\n",
       "      <td>583</td>\n",
       "      <td>0.958333</td>\n",
       "      <td>0.207116</td>\n",
       "      <td>0.983333</td>\n",
       "      <td>0.180302</td>\n",
       "    </tr>\n",
       "    <tr>\n",
       "      <th>47</th>\n",
       "      <td>1.541697</td>\n",
       "      <td>48</td>\n",
       "      <td>596</td>\n",
       "      <td>0.946154</td>\n",
       "      <td>0.241741</td>\n",
       "      <td>0.983333</td>\n",
       "      <td>0.170533</td>\n",
       "    </tr>\n",
       "    <tr>\n",
       "      <th>48</th>\n",
       "      <td>1.572967</td>\n",
       "      <td>49</td>\n",
       "      <td>608</td>\n",
       "      <td>0.925000</td>\n",
       "      <td>0.310244</td>\n",
       "      <td>0.983333</td>\n",
       "      <td>0.165170</td>\n",
       "    </tr>\n",
       "    <tr>\n",
       "      <th>49</th>\n",
       "      <td>1.607853</td>\n",
       "      <td>50</td>\n",
       "      <td>620</td>\n",
       "      <td>0.975000</td>\n",
       "      <td>0.185174</td>\n",
       "      <td>0.966667</td>\n",
       "      <td>0.168430</td>\n",
       "    </tr>\n",
       "  </tbody>\n",
       "</table>\n",
       "</div>"
      ],
      "text/plain": [
       "    elapsed_time  epoch  iteration  main/accuracy  main/loss  \\\n",
       "0       0.032401      1         13       0.415385   1.103918   \n",
       "1       0.063564      2         25       0.575000   1.003100   \n",
       "2       0.096493      3         38       0.553846   0.942188   \n",
       "3       0.126369      4         50       0.641667   0.848846   \n",
       "4       0.159143      5         62       0.650000   0.812970   \n",
       "5       0.190904      6         75       0.684615   0.748720   \n",
       "6       0.220960      7         87       0.675000   0.719701   \n",
       "7       0.255656      8        100       0.753846   0.704584   \n",
       "8       0.288155      9        112       0.716667   0.688909   \n",
       "9       0.320836     10        124       0.800000   0.594708   \n",
       "10      0.352520     11        137       0.784615   0.588698   \n",
       "11      0.381661     12        149       0.758333   0.626121   \n",
       "12      0.413213     13        162       0.800000   0.560623   \n",
       "13      0.442442     14        174       0.866667   0.480577   \n",
       "14      0.473163     15        186       0.858333   0.556047   \n",
       "15      0.504492     16        199       0.869231   0.506974   \n",
       "16      0.534730     17        211       0.866667   0.478951   \n",
       "17      0.566260     18        224       0.861538   0.471306   \n",
       "18      0.595704     19        236       0.900000   0.441507   \n",
       "19      0.625229     20        248       0.866667   0.471907   \n",
       "20      0.656747     21        261       0.876923   0.452109   \n",
       "21      0.687249     22        273       0.883333   0.453664   \n",
       "22      0.718971     23        286       0.892308   0.380661   \n",
       "23      0.748346     24        298       0.875000   0.410088   \n",
       "24      0.777901     25        310       0.900000   0.374395   \n",
       "25      0.810841     26        323       0.915385   0.352433   \n",
       "26      0.841276     27        335       0.916667   0.364845   \n",
       "27      0.875592     28        348       0.930769   0.306647   \n",
       "28      0.909160     29        360       0.933333   0.325068   \n",
       "29      0.940931     30        372       0.875000   0.388985   \n",
       "30      0.973630     31        385       0.938462   0.311822   \n",
       "31      1.006063     32        397       0.933333   0.316743   \n",
       "32      1.040961     33        410       0.961538   0.290442   \n",
       "33      1.073462     34        422       0.925000   0.273505   \n",
       "34      1.105406     35        434       0.950000   0.259710   \n",
       "35      1.140920     36        447       0.915385   0.283717   \n",
       "36      1.173471     37        459       0.908333   0.324117   \n",
       "37      1.207409     38        472       0.938462   0.257327   \n",
       "38      1.239077     39        484       0.950000   0.234977   \n",
       "39      1.271573     40        496       0.958333   0.194902   \n",
       "40      1.304452     41        509       0.976923   0.196919   \n",
       "41      1.338003     42        521       0.908333   0.278829   \n",
       "42      1.372719     43        534       0.938462   0.229717   \n",
       "43      1.408430     44        546       0.933333   0.236867   \n",
       "44      1.440958     45        558       0.933333   0.206753   \n",
       "45      1.474345     46        571       0.915385   0.281936   \n",
       "46      1.507717     47        583       0.958333   0.207116   \n",
       "47      1.541697     48        596       0.946154   0.241741   \n",
       "48      1.572967     49        608       0.925000   0.310244   \n",
       "49      1.607853     50        620       0.975000   0.185174   \n",
       "\n",
       "    validation/main/accuracy  validation/main/loss  \n",
       "0                   0.341667              1.214419  \n",
       "1                   0.475000              0.993539  \n",
       "2                   0.608333              0.922005  \n",
       "3                   0.625000              0.856451  \n",
       "4                   0.625000              0.805480  \n",
       "5                   0.608333              0.771339  \n",
       "6                   0.625000              0.728936  \n",
       "7                   0.625000              0.702140  \n",
       "8                   0.641667              0.673809  \n",
       "9                   0.683333              0.656860  \n",
       "10                  0.700000              0.634453  \n",
       "11                  0.750000              0.602156  \n",
       "12                  0.791667              0.590054  \n",
       "13                  0.808333              0.576962  \n",
       "14                  0.808333              0.550731  \n",
       "15                  0.808333              0.541605  \n",
       "16                  0.808333              0.521063  \n",
       "17                  0.825000              0.507851  \n",
       "18                  0.841667              0.490725  \n",
       "19                  0.841667              0.481671  \n",
       "20                  0.916667              0.463697  \n",
       "21                  0.900000              0.445717  \n",
       "22                  0.900000              0.433952  \n",
       "23                  0.916667              0.419765  \n",
       "24                  0.900000              0.397687  \n",
       "25                  0.900000              0.387938  \n",
       "26                  0.933333              0.367715  \n",
       "27                  0.916667              0.355292  \n",
       "28                  0.950000              0.348403  \n",
       "29                  0.966667              0.329933  \n",
       "30                  0.966667              0.315558  \n",
       "31                  0.950000              0.310268  \n",
       "32                  0.966667              0.294099  \n",
       "33                  0.950000              0.283344  \n",
       "34                  0.966667              0.270989  \n",
       "35                  0.950000              0.258128  \n",
       "36                  0.966667              0.250026  \n",
       "37                  0.966667              0.239251  \n",
       "38                  0.983333              0.230012  \n",
       "39                  0.966667              0.226905  \n",
       "40                  0.966667              0.222974  \n",
       "41                  0.983333              0.208401  \n",
       "42                  0.966667              0.207539  \n",
       "43                  0.966667              0.199324  \n",
       "44                  0.966667              0.191793  \n",
       "45                  0.966667              0.190416  \n",
       "46                  0.983333              0.180302  \n",
       "47                  0.983333              0.170533  \n",
       "48                  0.983333              0.165170  \n",
       "49                  0.966667              0.168430  "
      ]
     },
     "execution_count": 424,
     "metadata": {},
     "output_type": "execute_result"
    }
   ],
   "source": [
    "result"
   ]
  },
  {
   "cell_type": "code",
   "execution_count": 425,
   "metadata": {},
   "outputs": [
    {
     "data": {
      "text/plain": [
       "<matplotlib.axes._subplots.AxesSubplot at 0x7fc2734b06a0>"
      ]
     },
     "execution_count": 425,
     "metadata": {},
     "output_type": "execute_result"
    },
    {
     "data": {
      "image/png": "[encoded data removed]",
      "text/plain": [
       "<matplotlib.figure.Figure at 0x7fc273617860>"
      ]
     },
     "metadata": {},
     "output_type": "display_data"
    }
   ],
   "source": [
    "result[['main/accuracy', 'validation/main/accuracy']].plot()"
   ]
  },
  {
   "cell_type": "code",
   "execution_count": 426,
   "metadata": {},
   "outputs": [
    {
     "data": {
      "text/plain": [
       "<matplotlib.axes._subplots.AxesSubplot at 0x7fc2733c3978>"
      ]
     },
     "execution_count": 426,
     "metadata": {},
     "output_type": "execute_result"
    },
    {
     "data": {
      "image/png": "[encoded data removed]",
      "text/plain": [
       "<matplotlib.figure.Figure at 0x7fc2736ca9b0>"
      ]
     },
     "metadata": {},
     "output_type": "display_data"
    }
   ],
   "source": [
    "result[['main/loss', 'validation/main/loss']].plot()"
   ]
  },
  {
   "cell_type": "markdown",
   "metadata": {},
   "source": [
    "モデルの改良"
   ]
  },
  {
   "cell_type": "code",
   "execution_count": 427,
   "metadata": {
    "collapsed": true
   },
   "outputs": [],
   "source": [
    "class NN(chainer.Chain):\n",
    "    def __init__(self, n_hidden=5, n_out=3):\n",
    "        super().__init__()\n",
    "        \n",
    "        with self.init_scope():\n",
    "            self.f1 = L.Linear(None, n_hidden)\n",
    "            self.f2 = L.Linear(None, n_hidden)\n",
    "            self.f3 = L.Linear(None, n_out)\n",
    "            self.bn = L.BatchNormalization(10)\n",
    "            \n",
    "    def __call__(self, x):\n",
    "        h = self.bn(x)\n",
    "        h = self.f1(h)\n",
    "        h = F.relu(h)\n",
    "        h = self.f2(h)\n",
    "        h = F.relu(h)\n",
    "        h = self.f3(h)\n",
    "        return h"
   ]
  },
  {
   "cell_type": "code",
   "execution_count": 428,
   "metadata": {
    "collapsed": true
   },
   "outputs": [],
   "source": [
    "# Fix seed / hyperparameter\n",
    "np.random.seed(0)\n",
    "batchsize = 10\n",
    "epoch = 500\n",
    "device = -1\n",
    "\n",
    "# define model\n",
    "nn = NN(n_hidden=5)\n",
    "model = L.Classifier(nn)\n",
    "\n",
    "# Setting Learning\n",
    "optimizer = chainer.optimizers.Adam()\n",
    "optimizer.setup(model)\n",
    "\n",
    "train_iter = chainer.iterators.SerialIterator(train, batchsize)\n",
    "test_iter = chainer.iterators.SerialIterator(test, batchsize,\n",
    "                                            repeat=False,\n",
    "                                            shuffle=False)\n",
    "\n",
    "updater = chainer.training.StandardUpdater(train_iter, \n",
    "                                           optimizer,\n",
    "                                          device=device)\n",
    "\n",
    "trainer = chainer.training.Trainer(updater,\n",
    "                                   (epoch, 'epoch'),\n",
    "                                   out='result/wine/mylog')\n",
    "trainer.extend(extensions.Evaluator(test_iter, model, device=device))\n",
    "trainer.extend(extensions.LogReport(trigger=(1, 'epoch')))\n",
    "\n",
    "trainer.run()"
   ]
  },
  {
   "cell_type": "code",
   "execution_count": 429,
   "metadata": {
    "scrolled": true
   },
   "outputs": [
    {
     "data": {
      "text/plain": [
       "<matplotlib.axes._subplots.AxesSubplot at 0x7fc2738371d0>"
      ]
     },
     "execution_count": 429,
     "metadata": {},
     "output_type": "execute_result"
    },
    {
     "data": {
      "image/png": "[encoded data removed]",
      "text/plain": [
       "<matplotlib.figure.Figure at 0x7fc2735ec7f0>"
      ]
     },
     "metadata": {},
     "output_type": "display_data"
    }
   ],
   "source": [
    "with open('result/wine/mylog/log') as f:\n",
    "    result = pd.DataFrame(json.load(f))\n",
    "\n",
    "result[['main/accuracy', 'validation/main/accuracy']].plot()"
   ]
  },
  {
   "cell_type": "code",
   "execution_count": 430,
   "metadata": {},
   "outputs": [
    {
     "data": {
      "text/plain": [
       "variable(0.00902712)"
      ]
     },
     "execution_count": 430,
     "metadata": {},
     "output_type": "execute_result"
    }
   ],
   "source": [
    "trainer.observation['main/loss']"
   ]
  },
  {
   "cell_type": "markdown",
   "metadata": {},
   "source": [
    "実験"
   ]
  },
  {
   "cell_type": "code",
   "execution_count": 431,
   "metadata": {
    "collapsed": true
   },
   "outputs": [],
   "source": [
    "def model_experience(chainer_model, setting):\n",
    "    # Fix seed / hyperparameter\n",
    "    np.random.seed(0)\n",
    "    batchsize = setting['batch_size']\n",
    "    epoch = setting['epochs']\n",
    "    if setting['device'] == 'CPU':\n",
    "        device = -1\n",
    "    elif setting['device'] == 'GPU':\n",
    "        device = 0\n",
    "\n",
    "    # define model\n",
    "    model = L.Classifier(chainer_model)\n",
    "\n",
    "    # Setting Learning\n",
    "    optimizer = chainer.optimizers.Adam()\n",
    "    optimizer.setup(model)\n",
    "\n",
    "    train_iter = chainer.iterators.SerialIterator(train, batchsize)\n",
    "    test_iter = chainer.iterators.SerialIterator(test, batchsize,\n",
    "                                                repeat=False,\n",
    "                                                shuffle=False)\n",
    "\n",
    "    updater = chainer.training.StandardUpdater(train_iter, \n",
    "                                               optimizer,\n",
    "                                              device=device)\n",
    "\n",
    "    trainer = chainer.training.Trainer(updater,\n",
    "                                       (epoch, 'epoch'),\n",
    "                                       out='result/wine/mylog')\n",
    "    trainer.extend(extensions.Evaluator(test_iter, model, device=device))\n",
    "    trainer.extend(extensions.LogReport(trigger=(1, 'epoch')))\n",
    "\n",
    "    trainer.run()\n",
    "    \n",
    "    print('Learning elapsed time:', trainer.elapsed_time)\n",
    "    print('Validation accuracy:', trainer.observation['validation/main/accuracy'])\n",
    "    \n",
    "    with open('result/wine/mylog/log') as f:\n",
    "        result = pd.DataFrame(json.load(f))\n",
    "\n",
    "    result[['main/accuracy', 'validation/main/accuracy']].plot()\n",
    "    \n",
    "    return model"
   ]
  },
  {
   "cell_type": "code",
   "execution_count": 432,
   "metadata": {
    "collapsed": true
   },
   "outputs": [],
   "source": [
    "class NN(chainer.Chain):\n",
    "    def __init__(self, n_hidden=5, n_out=3):\n",
    "        super().__init__()\n",
    "        \n",
    "        with self.init_scope():\n",
    "            self.f1 = L.Linear(None, n_hidden)\n",
    "            self.f2 = L.Linear(None, n_hidden)\n",
    "            self.f3 = L.Linear(None, n_out)\n",
    "            self.bn = L.BatchNormalization(10)\n",
    "            self.bn_l = L.BatchNormalization(n_hidden)\n",
    "            \n",
    "    def __call__(self, x):\n",
    "        h = self.bn(x)\n",
    "        h = self.f1(h)\n",
    "        h = F.relu(h)\n",
    "        h = self.bn_l(h)\n",
    "        h = self.f2(h)\n",
    "        h = F.relu(h)\n",
    "        h = self.f3(h)\n",
    "        return h"
   ]
  },
  {
   "cell_type": "code",
   "execution_count": 433,
   "metadata": {},
   "outputs": [
    {
     "name": "stdout",
     "output_type": "stream",
     "text": [
      "Learning elapsed time: 2.2770516389991826\n",
      "Validation accuracy: 0.9666666587193807\n"
     ]
    },
    {
     "data": {
      "image/png": "[encoded data removed]",
      "text/plain": [
       "<matplotlib.figure.Figure at 0x7fc2734b96d8>"
      ]
     },
     "metadata": {},
     "output_type": "display_data"
    }
   ],
   "source": [
    "chainer_model = NN()\n",
    "setting = {\n",
    "    'batch_size': 10,\n",
    "    'epochs': 50,\n",
    "    'device': 'CPU'\n",
    "}\n",
    "\n",
    "model = model_experience(chainer_model, setting)"
   ]
  },
  {
   "cell_type": "code",
   "execution_count": 434,
   "metadata": {},
   "outputs": [
    {
     "name": "stdout",
     "output_type": "stream",
     "text": [
      "Learning elapsed time: 4.155472289001409\n",
      "Validation accuracy: 0.98333335\n"
     ]
    },
    {
     "data": {
      "image/png": "[encoded data removed]",
      "text/plain": [
       "<matplotlib.figure.Figure at 0x7fc273362ac8>"
      ]
     },
     "metadata": {},
     "output_type": "display_data"
    }
   ],
   "source": [
    "chainer_model = NN()\n",
    "setting = {\n",
    "    'batch_size': 10,\n",
    "    'epochs': 50,\n",
    "    'device': 'GPU'\n",
    "}\n",
    "\n",
    "model = model_experience(chainer_model, setting)"
   ]
  },
  {
   "cell_type": "code",
   "execution_count": 435,
   "metadata": {},
   "outputs": [
    {
     "name": "stdout",
     "output_type": "stream",
     "text": [
      "Learning elapsed time: 2.284462486999473\n",
      "Validation accuracy: 0.9833333293596903\n"
     ]
    },
    {
     "data": {
      "image/png": "[encoded data removed]",
      "text/plain": [
       "<matplotlib.figure.Figure at 0x7fc2732bdb70>"
      ]
     },
     "metadata": {},
     "output_type": "display_data"
    }
   ],
   "source": [
    "chainer_model = NN(10)\n",
    "setting = {\n",
    "    'batch_size': 10,\n",
    "    'epochs': 50,\n",
    "    'device': 'CPU'\n",
    "}\n",
    "\n",
    "model = model_experience(chainer_model, setting)"
   ]
  },
  {
   "cell_type": "code",
   "execution_count": 450,
   "metadata": {},
   "outputs": [
    {
     "name": "stdout",
     "output_type": "stream",
     "text": [
      "Learning elapsed time: 2.29383314199913\n",
      "Validation accuracy: 0.9833333293596903\n"
     ]
    },
    {
     "data": {
      "image/png": "[encoded data removed]",
      "text/plain": [
       "<matplotlib.figure.Figure at 0x7fc2737a4a90>"
      ]
     },
     "metadata": {},
     "output_type": "display_data"
    }
   ],
   "source": [
    "chainer_model = NN(10)\n",
    "setting = {\n",
    "    'batch_size': 10,\n",
    "    'epochs': 50,\n",
    "    'device': 'CPU'\n",
    "}\n",
    "\n",
    "model = model_experience(chainer_model, setting)"
   ]
  },
  {
   "cell_type": "code",
   "execution_count": 452,
   "metadata": {},
   "outputs": [
    {
     "name": "stdout",
     "output_type": "stream",
     "text": [
      "Learning elapsed time: 0.17882841600112442\n",
      "Validation accuracy: 0.5\n"
     ]
    },
    {
     "data": {
      "image/png": "[encoded data removed]",
      "text/plain": [
       "<matplotlib.figure.Figure at 0x7fc2735e3dd8>"
      ]
     },
     "metadata": {},
     "output_type": "display_data"
    }
   ],
   "source": [
    "chainer_model = NN()\n",
    "setting = {\n",
    "    'batch_size': 200,\n",
    "    'epochs': 50,\n",
    "    'device': 'CPU'\n",
    "}\n",
    "\n",
    "model = model_experience(chainer_model, setting)"
   ]
  },
  {
   "cell_type": "code",
   "execution_count": 453,
   "metadata": {},
   "outputs": [
    {
     "name": "stdout",
     "output_type": "stream",
     "text": [
      "Learning elapsed time: 0.3959932600009779\n",
      "Validation accuracy: 0.8703703880310059\n"
     ]
    },
    {
     "data": {
      "image/png": "[encoded data removed]",
      "text/plain": [
       "<matplotlib.figure.Figure at 0x7fc2736bb9b0>"
      ]
     },
     "metadata": {},
     "output_type": "display_data"
    }
   ],
   "source": [
    "chainer_model = NN(10)\n",
    "setting = {\n",
    "    'batch_size': 200,\n",
    "    'epochs': 100,\n",
    "    'device': 'CPU'\n",
    "}\n",
    "\n",
    "model = model_experience(chainer_model, setting)"
   ]
  },
  {
   "cell_type": "code",
   "execution_count": 436,
   "metadata": {
    "scrolled": true
   },
   "outputs": [
    {
     "name": "stdout",
     "output_type": "stream",
     "text": [
      "Learning elapsed time: 2.333978938000655\n",
      "Validation accuracy: 1.0\n"
     ]
    },
    {
     "data": {
      "image/png": "[encoded data removed]",
      "text/plain": [
       "<matplotlib.figure.Figure at 0x7fc27335ccc0>"
      ]
     },
     "metadata": {},
     "output_type": "display_data"
    }
   ],
   "source": [
    "chainer_model = NN(20)\n",
    "setting = {\n",
    "    'batch_size': 10,\n",
    "    'epochs': 50,\n",
    "    'device': 'CPU'\n",
    "}\n",
    "\n",
    "model = model_experience(chainer_model, setting)"
   ]
  },
  {
   "cell_type": "markdown",
   "metadata": {},
   "source": [
    "* バッチサイズを小さくすると実行速度が遅くなる\n",
    "* バッチサイズが大きいと、学習が遅くなる\n",
    "* どちらもバランスが大事そうな印象\n",
    "\n",
    "モデルの保存・読み込み"
   ]
  },
  {
   "cell_type": "code",
   "execution_count": 437,
   "metadata": {
    "collapsed": true
   },
   "outputs": [],
   "source": [
    "# save model\n",
    "chainer.serializers.save_npz('./models/wine.npz', model)"
   ]
  },
  {
   "cell_type": "code",
   "execution_count": 438,
   "metadata": {
    "collapsed": true
   },
   "outputs": [],
   "source": [
    "# load model\n",
    "# モデルの構造は同じでないといけない\n",
    "model = L.Classifier(NN(20))\n",
    "\n",
    "chainer.serializers.load_npz('models/wine.npz', model)"
   ]
  },
  {
   "cell_type": "markdown",
   "metadata": {},
   "source": [
    "予測値の計算"
   ]
  },
  {
   "cell_type": "code",
   "execution_count": 439,
   "metadata": {},
   "outputs": [
    {
     "data": {
      "text/plain": [
       "array([1.423e+01, 2.430e+00, 1.560e+01, 1.270e+02, 2.800e+00, 3.060e+00,\n",
       "       2.800e-01, 5.640e+00, 1.040e+00, 1.065e+03], dtype=float32)"
      ]
     },
     "execution_count": 439,
     "metadata": {},
     "output_type": "execute_result"
    }
   ],
   "source": [
    "x_new = x[0]\n",
    "x_new"
   ]
  },
  {
   "cell_type": "code",
   "execution_count": 440,
   "metadata": {},
   "outputs": [
    {
     "name": "stderr",
     "output_type": "stream",
     "text": [
      "/usr/local/lib/python3.5/dist-packages/chainer/functions/normalization/batch_normalization.py:67: UserWarning: A batch with no more than one sample has been given to F.batch_normalization. F.batch_normalization will always output a zero tensor for such batches. This could be caused by incorrect configuration in your code (such as running evaluation while chainer.config.train=True), but could also happen in the last batch of training if non-repeating iterator is used.\n",
      "  UserWarning)\n"
     ]
    }
   ],
   "source": [
    "y = model.predictor(x_new[np.newaxis])"
   ]
  },
  {
   "cell_type": "code",
   "execution_count": 441,
   "metadata": {},
   "outputs": [
    {
     "data": {
      "text/plain": [
       "variable([[0.38403735, 0.44642043, 0.16954227]])"
      ]
     },
     "execution_count": 441,
     "metadata": {},
     "output_type": "execute_result"
    }
   ],
   "source": [
    "probability = F.softmax(y)\n",
    "probability"
   ]
  },
  {
   "cell_type": "code",
   "execution_count": 442,
   "metadata": {},
   "outputs": [
    {
     "data": {
      "text/plain": [
       "1"
      ]
     },
     "execution_count": 442,
     "metadata": {},
     "output_type": "execute_result"
    }
   ],
   "source": [
    "np.argmax(probability.array)"
   ]
  },
  {
   "cell_type": "code",
   "execution_count": 443,
   "metadata": {},
   "outputs": [
    {
     "data": {
      "text/plain": [
       "0"
      ]
     },
     "execution_count": 443,
     "metadata": {},
     "output_type": "execute_result"
    }
   ],
   "source": [
    "t[0]"
   ]
  },
  {
   "cell_type": "code",
   "execution_count": null,
   "metadata": {
    "collapsed": true
   },
   "outputs": [],
   "source": []
  }
 ],
 "metadata": {
  "kernelspec": {
   "display_name": "Python 3",
   "language": "python",
   "name": "python3"
  },
  "language_info": {
   "codemirror_mode": {
    "name": "ipython",
    "version": 3
   },
   "file_extension": ".py",
   "mimetype": "text/x-python",
   "name": "python",
   "nbconvert_exporter": "python",
   "pygments_lexer": "ipython3",
   "version": "3.5.2"
  }
 },
 "nbformat": 4,
 "nbformat_minor": 2
}
