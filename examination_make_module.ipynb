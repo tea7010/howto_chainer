{
 "cells": [
  {
   "cell_type": "markdown",
   "metadata": {},
   "source": [
    "# 画像処理のテスト\n",
    "\n",
    "dataフォルダに格納されているdogとcatの2クラスの画像を分類するモデルを作成せよ。\n",
    "\n",
    "サンプル数\n",
    "\n",
    "- dog: 250枚\n",
    "- cat: 250枚\n",
    "\n",
    "訓練データ: 全体の70%をランダムに（seed=0）\n",
    "\n",
    "AccuracyがValidationのデータに対して70%得られていること"
   ]
  },
  {
   "cell_type": "code",
   "execution_count": 1,
   "metadata": {
    "collapsed": true
   },
   "outputs": [],
   "source": [
    "import json\n",
    "import numpy as np\n",
    "import pandas as pd\n",
    "import matplotlib.pyplot as plt\n",
    "%matplotlib inline\n",
    "\n",
    "# 自作モジュール\n",
    "from my_libs.load_data import load_data\n",
    "from my_libs.reset_seed import reset_seed\n",
    "reset_seed()"
   ]
  },
  {
   "cell_type": "markdown",
   "metadata": {},
   "source": [
    "## データ読み込み"
   ]
  },
  {
   "cell_type": "code",
   "execution_count": 2,
   "metadata": {
    "scrolled": false
   },
   "outputs": [
    {
     "data": {
      "text/plain": [
       "(350, 150)"
      ]
     },
     "execution_count": 2,
     "metadata": {},
     "output_type": "execute_result"
    }
   ],
   "source": [
    "train, test = load_data('../data/')\n",
    "len(train), len(test)"
   ]
  },
  {
   "cell_type": "code",
   "execution_count": 3,
   "metadata": {
    "scrolled": true
   },
   "outputs": [
    {
     "data": {
      "text/plain": [
       "(('../data/cat/192.jpg', 1), ('../data/cat/72.jpg', 1))"
      ]
     },
     "execution_count": 3,
     "metadata": {},
     "output_type": "execute_result"
    }
   ],
   "source": [
    "train[0], test[0]"
   ]
  },
  {
   "cell_type": "markdown",
   "metadata": {},
   "source": [
    "## モデル設計・学習・評価"
   ]
  },
  {
   "cell_type": "code",
   "execution_count": 4,
   "metadata": {},
   "outputs": [],
   "source": [
    "import chainer\n",
    "import chainer.links as L\n",
    "import chainer.functions as F\n",
    "from chainer.datasets import LabeledImageDataset\n",
    "\n",
    "from my_libs.ChainerPipeline import ChainerPipeline"
   ]
  },
  {
   "cell_type": "code",
   "execution_count": 6,
   "metadata": {
    "scrolled": true
   },
   "outputs": [
    {
     "name": "stdout",
     "output_type": "stream",
     "text": [
      "epoch       main/accuracy  validation/main/accuracy  main/loss   validation/main/loss  elapsed_time\n",
      "\u001b[J1           0.582386       0.629167                  2379.77     674.316               22.1043       \n",
      "\u001b[J2           0.710227       0.585417                  285.401     404.935               43.7209       \n",
      "\u001b[J3           0.752841       0.597917                  111.529     270.152               65.4893       \n",
      "\u001b[J4           0.798295       0.677083                  94.3401     206.315               87.3698       \n",
      "\u001b[J5           0.917614       0.677083                  18.8405     153.089               108.745       \n",
      "\u001b[J6           0.96875        0.689583                  4.0796      150.097               130.591       \n",
      "\u001b[J7           0.980114       0.708333                  1.31314     157.007               152.671       \n",
      "\u001b[J8           0.946429       0.641667                  8.17117     212.201               173.42        \n",
      "\u001b[J9           0.931818       0.702083                  9.94961     136.741               194.975       \n",
      "\u001b[J10          0.980114       0.695833                  2.82131     135.279               216.993       \n",
      "Preprocess             MyProcessing\n",
      "Model                         MyCNN\n",
      "Elapsed time                216.993\n",
      "Validation accuracy        0.695833\n",
      "batch_size                       16\n",
      "epoch                            10\n",
      "use_gpu                       False\n",
      "dtype: object\n"
     ]
    },
    {
     "data": {
      "image/png": "[encoded data removed]",
      "text/plain": [
       "<matplotlib.figure.Figure at 0x7fef8cd545f8>"
      ]
     },
     "metadata": {},
     "output_type": "display_data"
    }
   ],
   "source": [
    "class MyProcessing:\n",
    "    def __init__(self):\n",
    "        pass\n",
    "    \n",
    "    def transform(seif, x):\n",
    "        return LabeledImageDataset(x)\n",
    "    \n",
    "    \n",
    "class MyCNN(chainer.Chain):\n",
    "    def __init__(self, n_mid=100, n_out=2):\n",
    "        super().__init__()\n",
    "        with self.init_scope():\n",
    "            self.cnv1 = L.Convolution2D(in_channels=3, \n",
    "                                        out_channels=16, \n",
    "                                        ksize=3,\n",
    "                                        stride=1,\n",
    "                                        pad=1)\n",
    "            self.fc1 = L.Linear(None, n_mid)\n",
    "            self.fco = L.Linear(None, n_out)\n",
    "            \n",
    "    def __call__(self, x):\n",
    "        h = self.cnv1(x)\n",
    "        h = F.relu(h)\n",
    "        h = F.max_pooling_2d(h, 3, 3)\n",
    "        h = self.fc1(h)\n",
    "        h = self.fco(h)\n",
    "        return h\n",
    "\n",
    "setting = {\n",
    "    'epoch': 10,\n",
    "    'batch_size': 16,\n",
    "    'use_gpu': False\n",
    "}\n",
    "    \n",
    "p = ChainerPipeline(MyProcessing(), MyCNN(), train, test, setting)\n",
    "model, resul = p.run()"
   ]
  },
  {
   "cell_type": "code",
   "execution_count": null,
   "metadata": {
    "collapsed": true
   },
   "outputs": [],
   "source": []
  }
 ],
 "metadata": {
  "kernelspec": {
   "display_name": "Python 3",
   "language": "python",
   "name": "python3"
  },
  "language_info": {
   "codemirror_mode": {
    "name": "ipython",
    "version": 3
   },
   "file_extension": ".py",
   "mimetype": "text/x-python",
   "name": "python",
   "nbconvert_exporter": "python",
   "pygments_lexer": "ipython3",
   "version": "3.5.2"
  }
 },
 "nbformat": 4,
 "nbformat_minor": 2
}
